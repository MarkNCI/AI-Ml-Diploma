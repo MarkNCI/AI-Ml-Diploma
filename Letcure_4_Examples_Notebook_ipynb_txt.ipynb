{
  "cells": [
    {
      "cell_type": "markdown",
      "metadata": {
        "id": "view-in-github",
        "colab_type": "text"
      },
      "source": [
        "<a href=\"https://colab.research.google.com/github/MarkNCI/AI-Ml-Diploma/blob/main/Letcure_4_Examples_Notebook_ipynb_txt.ipynb\" target=\"_parent\"><img src=\"https://colab.research.google.com/assets/colab-badge.svg\" alt=\"Open In Colab\"/></a>"
      ]
    },
    {
      "cell_type": "markdown",
      "id": "e3939440",
      "metadata": {
        "id": "e3939440"
      },
      "source": [
        "# Artificial Intelligence and Machine Learning"
      ]
    },
    {
      "cell_type": "markdown",
      "id": "b509591f",
      "metadata": {
        "id": "b509591f"
      },
      "source": [
        "## Classification"
      ]
    },
    {
      "cell_type": "markdown",
      "id": "61c249dc",
      "metadata": {
        "id": "61c249dc"
      },
      "source": [
        "### Naïve Bayes\n",
        "Example shows an example of a naive Bayes classification for irises. In\n",
        "this case, it uses X, y = load_iris(return_X_y=True) to load the iris data and\n",
        "returns the data as X and y, where X includes all four features of that data. It\n",
        "then trains the naive Bayes classifier model and makes a prediction for a given\n",
        "sample with the sepal’s length and width and the petal’s length and width."
      ]
    },
    {
      "cell_type": "code",
      "execution_count": 1,
      "id": "c867ca00",
      "metadata": {
        "colab": {
          "base_uri": "https://localhost:8080/"
        },
        "id": "c867ca00",
        "outputId": "8acb8e1e-284c-44c9-8820-8b65a0097dde"
      },
      "outputs": [
        {
          "output_type": "stream",
          "name": "stdout",
          "text": [
            "[0]\n"
          ]
        }
      ],
      "source": [
        "#Example Naive Bayes Iris\n",
        "from sklearn.datasets import load_iris\n",
        "from sklearn.model_selection import train_test_split\n",
        "from sklearn.naive_bayes import GaussianNB\n",
        "\n",
        "#In scikit-learn's load_iris() function, return_X_y is an optional parameter that allows you to choose whether to return the loaded data as a tuple of (data, target) or as two separate arrays X (data) and y (target).\n",
        "# If you set return_X_y=True, as in this example, then the function will return X and y as separate arrays. If you don't specify return_X_y=True, then the function will return the data and target arrays as a single tuple of (data, target).\n",
        "X, y = load_iris(return_X_y=True)\n",
        "# print(X)\n",
        "clf = GaussianNB()\n",
        "clf.fit(X, y)\n",
        "p = clf.predict([[5.0, 3.4, 1.5, 0.4]])\n",
        "print(p)"
      ]
    },
    {
      "cell_type": "markdown",
      "id": "d02b9caa",
      "metadata": {
        "id": "d02b9caa"
      },
      "source": [
        "For a large amount of data, you can save the trained model to a file and load\n",
        "the model from the file later. Saving the model to a file is called serialization.\n",
        "You can use Sklearn’s joblib for this.\n",
        "\n",
        "from sklearn.externals import joblib\n",
        "\n",
        "joblib.dump(clf, 'model.pkl')\n",
        "\n",
        "\n",
        "\n",
        "Once the model has been saved, you can then load this model into memory\n",
        "with a single line of code. Loading the model back into your workspace is called\n",
        "deserialization.\n",
        "\n",
        "clf2 = joblib.load('model.pkl')"
      ]
    },
    {
      "cell_type": "markdown",
      "id": "2ba01c88",
      "metadata": {
        "id": "2ba01c88"
      },
      "source": [
        "### Decision Tree Classification\n",
        "Example shows an example of decision tree classification for iris flowers.\n",
        "In this case, it uses X, y = load_iris(return_X_y=True) to load the Iris data\n",
        "and returns the data as X and y, using all four features of the data. It then splits\n",
        "the data into the training set and the testing set. It then trains the decision tree\n",
        "classifier model and makes predictions on the testing set. It also calculates and\n",
        "displays the total number of points, as well as the number of points that are\n",
        "correctly predicted."
      ]
    },
    {
      "cell_type": "code",
      "execution_count": 13,
      "id": "ae702117",
      "metadata": {
        "colab": {
          "base_uri": "https://localhost:8080/"
        },
        "id": "ae702117",
        "outputId": "0a21302d-be96-4fcf-d3d3-5a84cf23565c"
      },
      "outputs": [
        {
          "output_type": "stream",
          "name": "stdout",
          "text": [
            "Total points: 30 Correctly labeled points : 30\n"
          ]
        }
      ],
      "source": [
        "# Example Decision Tree Classification\n",
        "from sklearn.datasets import load_iris\n",
        "from sklearn.model_selection import train_test_split\n",
        "from sklearn.tree import DecisionTreeClassifier\n",
        "X, y = load_iris(return_X_y=True)\n",
        "X_train, X_test, y_train, y_test = train_test_split(X, y, test_size=0.2, random_state=0)\n",
        "# In scikit-learn's train_test_split() function, random_state is an optional parameter that allows you to specify the seed value for the random number generator that splits the data into training and testing sets.\n",
        "# By setting random_state to a fixed value, as in the example where random_state=0, you ensure that each time you run the code, the data is split in the same way. This can be useful for reproducibility of results.\n",
        "clf = DecisionTreeClassifier()\n",
        "clf.fit(X_train, y_train)\n",
        "y_pred = clf.predict(X_test)\n",
        "N = y_test.shape[0]\n",
        "C = (y_test == y_pred).sum()\n",
        "print(\"Total points: %d Correctly labeled points : %d\" %(N,C))"
      ]
    },
    {
      "cell_type": "markdown",
      "id": "0b329c4f",
      "metadata": {
        "id": "0b329c4f"
      },
      "source": [
        "### Random Forest\n",
        "Example shows an example of a random forest classification for iris\n",
        "flowers. In this case, it uses X, y = load_iris(return_X_y=True) to load the\n",
        "iris data and returns the data as X and y, using all four features of the data. It\n",
        "then trains the random forest classifier model, makes predictions on the test\n",
        "samples, and calculates the number of points predicted correctly."
      ]
    },
    {
      "cell_type": "code",
      "execution_count": 15,
      "id": "dec046f9",
      "metadata": {
        "colab": {
          "base_uri": "https://localhost:8080/"
        },
        "id": "dec046f9",
        "outputId": "da965c7a-0789-4c74-8b1b-868394bcc88c"
      },
      "outputs": [
        {
          "output_type": "stream",
          "name": "stdout",
          "text": [
            "Total points: 30 Correctly labeled points : 30\n"
          ]
        }
      ],
      "source": [
        "#Example Random Forest\n",
        "from sklearn.datasets import load_iris\n",
        "from sklearn.model_selection import train_test_split\n",
        "from sklearn.ensemble import RandomForestClassifier\n",
        "X, y = load_iris(return_X_y=True)\n",
        "X_train, X_test, y_train, y_test = train_test_split(X, y, test_size=0.2, random_state=0)\n",
        "clf = RandomForestClassifier()\n",
        "clf.fit(X_train, y_train)\n",
        "y_pred = clf.predict(X_test)\n",
        "print(\"Total points: %d Correctly labeled points : %d\" %(y_test.shape[0],(y_test == y_pred).sum()))"
      ]
    },
    {
      "cell_type": "markdown",
      "id": "6e7d4fcb",
      "metadata": {
        "id": "6e7d4fcb"
      },
      "source": [
        "###  K-Nearest\n",
        "Example shows an example of K-NN\n",
        "classification for iris flowers. In\n",
        "this case, it uses X, y = load_iris(return_X_y=True) to load the iris data and\n",
        "returns the data as X and y arrays, using all four features of that data. It then\n",
        "trains the K-NN\n",
        "classifier model, makes predictions on the test samples, and\n",
        "calculates the number of points predicted correctly."
      ]
    },
    {
      "cell_type": "code",
      "execution_count": 17,
      "id": "5864a781",
      "metadata": {
        "colab": {
          "base_uri": "https://localhost:8080/"
        },
        "id": "5864a781",
        "outputId": "d08b979a-2b05-433a-e353-f030ca410f7f"
      },
      "outputs": [
        {
          "output_type": "stream",
          "name": "stdout",
          "text": [
            "Total points: 30 Correctly labeled points : 29\n"
          ]
        }
      ],
      "source": [
        "#Example K-Nearest Neighbors Classification\n",
        "from sklearn.datasets import load_iris\n",
        "from sklearn.model_selection import train_test_split\n",
        "from sklearn.neighbors import KNeighborsClassifier\n",
        "X, y = load_iris(return_X_y=True)\n",
        "X_train, X_test, y_train, y_test = train_test_split(X, y, test_size=0.2, random_state=0)\n",
        "clf = KNeighborsClassifier()\n",
        "clf.fit(X_train, y_train)\n",
        "y_pred = clf.predict(X_test)\n",
        "print(\"Total points: %d Correctly labeled points : %d\" %(y_test.shape[0],(y_test == y_pred).sum()))"
      ]
    },
    {
      "cell_type": "code",
      "execution_count": null,
      "id": "0d5a0891",
      "metadata": {
        "id": "0d5a0891"
      },
      "outputs": [],
      "source": []
    },
    {
      "cell_type": "markdown",
      "id": "a60cdcde",
      "metadata": {
        "id": "a60cdcde"
      },
      "source": [
        "### Example compares different classification models. \n",
        "It uses an array called\n",
        "names to store all the names of the different classifiers and an array called classifiers\n",
        "to store the functions of all the different classifiers. It then loads the\n",
        "iris data and splits it into training and testing sets. A for loop is run through all\n",
        "the classification models, from training the model and making a prediction to\n",
        "calculating the accuracy, as a ratio percentage of the number classified correctly\n",
        "over the total number of points."
      ]
    },
    {
      "cell_type": "code",
      "execution_count": 23,
      "id": "1bf87205",
      "metadata": {
        "colab": {
          "base_uri": "https://localhost:8080/"
        },
        "id": "1bf87205",
        "outputId": "6b0347bd-405a-4690-9e97-49b4d6ec11a8"
      },
      "outputs": [
        {
          "output_type": "stream",
          "name": "stdout",
          "text": [
            "SVM: 1.0\n",
            "Naive Bayes: 0.9666666666666667\n",
            "LDA: 1.0\n",
            "QDA: 1.0\n",
            "Decision Tree: 0.9666666666666667\n",
            "Random Forest: 1.0\n"
          ]
        }
      ],
      "source": [
        "#Example Comparison of Different Classification\n",
        "from sklearn.datasets import load_iris\n",
        "from sklearn.model_selection import train_test_split\n",
        "from sklearn.svm import SVC\n",
        "from sklearn.naive_bayes import GaussianNB\n",
        "from sklearn.tree import DecisionTreeClassifier\n",
        "from sklearn.ensemble import RandomForestClassifier\n",
        "from sklearn.neighbors import KNeighborsClassifier\n",
        "from sklearn.neural_network import MLPClassifier\n",
        "\n",
        "names = [ \"SVM\", \"Naive Bayes\", \"LDA\",\n",
        "\"QDA\", \"Decision Tree\", \"Random Forest\",\n",
        "\"Nearest Neighbors\", \"Neural Networks\"]\n",
        "\n",
        "classifiers = [ SVC(), GaussianNB(),DecisionTreeClassifier(),RandomForestClassifier(), KNeighborsClassifier(), MLPClassifier(alpha=1, max_iter=1000)]\n",
        "X, y = load_iris(return_X_y=True)\n",
        "X_train, X_test, y_train, y_test = train_test_split(X, y, test_size=0.2, random_state=0)\n",
        "\n",
        "for name, clf in zip(names, classifiers):\n",
        "    clf.fit(X_train, y_train)\n",
        "    score = clf.score(X_test, y_test)\n",
        "    print(name +\": \" + str(score))"
      ]
    },
    {
      "cell_type": "markdown",
      "id": "1a585e86",
      "metadata": {
        "id": "1a585e86"
      },
      "source": [
        "The following is the output of the program. It shows that the neural networks\n",
        "gives the best classification results with 98.7 percent of accuracy, compared to\n",
        "other models.\n",
        "SVM: 0.9466666666666667\n",
        "Naive Bayes: 0.9466666666666667\n",
        "LDA: 0.96\n",
        "QDA: 0.96\n",
        "Decision Tree: 0.96\n",
        "Random Forest: 0.9466666666666667\n",
        "Nearest Neighbors: 0.96\n",
        "Neural Networks: 0.9866666666666667"
      ]
    },
    {
      "cell_type": "code",
      "execution_count": null,
      "id": "8b96e0a0",
      "metadata": {
        "id": "8b96e0a0"
      },
      "outputs": [],
      "source": []
    },
    {
      "cell_type": "markdown",
      "id": "e3866d1e",
      "metadata": {
        "id": "e3866d1e"
      },
      "source": [
        "###  Regression\n",
        "Example shows a simple two-dimensional\n",
        "(X and Y) Python linear regression\n",
        "example.. It first creates two arrays for x and y values, then performs the\n",
        "linear regression by calling linregress(), and displays the linear regression\n",
        "results: the slope and the intercept. The slope represents the slope of the line,\n",
        "0.9 is close to 1, which means a line with a 45° slope. The intercept represents\n",
        "the intersection of the line with the y-axis.\n",
        "It also defines a linear function called\n",
        "myfunc() and defines the functions list() and map() to calculate the values of\n",
        "y from the x values of the myfunc()function. Finally, it uses the functions plt.\n",
        "scatter() and plt.show() to display and plot the original x and y values and\n",
        "the best-fitted\n",
        "line."
      ]
    },
    {
      "cell_type": "code",
      "execution_count": 19,
      "id": "b36fa664",
      "metadata": {
        "colab": {
          "base_uri": "https://localhost:8080/",
          "height": 300
        },
        "id": "b36fa664",
        "outputId": "866277ae-fa8e-4c22-e271-d7a9a4c8635c"
      },
      "outputs": [
        {
          "output_type": "stream",
          "name": "stdout",
          "text": [
            "slope:  0.9\n",
            "intercept:  3.4000000000000004\n"
          ]
        },
        {
          "output_type": "display_data",
          "data": {
            "text/plain": [
              "<Figure size 432x288 with 1 Axes>"
            ],
            "image/png": "[encoded data removed]"
          },
          "metadata": {
            "needs_background": "light"
          }
        }
      ],
      "source": [
        "#Example Linear Regression\n",
        "import matplotlib.pyplot as plt\n",
        "from scipy import stats\n",
        "x = [0,1,2,3,4]\n",
        "y = [3,5,5,6,7]\n",
        "slope, intercept, r, p, std_err = stats.linregress(x, y)\n",
        "print(\"slope: \", slope)\n",
        "print(\"intercept: \", intercept)\n",
        "def myfunc(x):\n",
        "    return slope * x + intercept\n",
        "mymodel = list(map(myfunc, x))\n",
        "plt.scatter(x, y)\n",
        "plt.plot(x, mymodel)\n",
        "plt.show()"
      ]
    },
    {
      "cell_type": "code",
      "execution_count": 20,
      "id": "e632e254",
      "metadata": {
        "colab": {
          "base_uri": "https://localhost:8080/",
          "height": 785
        },
        "id": "e632e254",
        "outputId": "d732a858-5f4e-48e2-c39f-9dbba796dadd"
      },
      "outputs": [
        {
          "output_type": "stream",
          "name": "stdout",
          "text": [
            "[3.4 0.9]\n",
            "                            OLS Regression Results                            \n",
            "==============================================================================\n",
            "Dep. Variable:                      y   R-squared:                       0.920\n",
            "Model:                            OLS   Adj. R-squared:                  0.894\n",
            "Method:                 Least Squares   F-statistic:                     34.71\n",
            "Date:                Thu, 02 Mar 2023   Prob (F-statistic):            0.00976\n",
            "Time:                        21:00:02   Log-Likelihood:                -2.1794\n",
            "No. Observations:                   5   AIC:                             8.359\n",
            "Df Residuals:                       3   BIC:                             7.578\n",
            "Df Model:                           1                                         \n",
            "Covariance Type:            nonrobust                                         \n",
            "==============================================================================\n",
            "                 coef    std err          t      P>|t|      [0.025      0.975]\n",
            "------------------------------------------------------------------------------\n",
            "const          3.4000      0.374      9.087      0.003       2.209       4.591\n",
            "x1             0.9000      0.153      5.892      0.010       0.414       1.386\n",
            "==============================================================================\n",
            "Omnibus:                          nan   Durbin-Watson:                   2.914\n",
            "Prob(Omnibus):                    nan   Jarque-Bera (JB):                0.901\n",
            "Skew:                           1.031   Prob(JB):                        0.637\n",
            "Kurtosis:                       2.729   Cond. No.                         4.74\n",
            "==============================================================================\n",
            "\n",
            "Notes:\n",
            "[1] Standard Errors assume that the covariance matrix of the errors is correctly specified.\n"
          ]
        },
        {
          "output_type": "stream",
          "name": "stderr",
          "text": [
            "/usr/local/lib/python3.8/dist-packages/statsmodels/stats/stattools.py:74: ValueWarning: omni_normtest is not valid with less than 8 observations; 5 samples were given.\n",
            "  warn(\"omni_normtest is not valid with less than 8 observations; %i \"\n"
          ]
        },
        {
          "output_type": "display_data",
          "data": {
            "text/plain": [
              "<Figure size 432x288 with 1 Axes>"
            ],
            "image/png": "[encoded data removed]"
          },
          "metadata": {
            "needs_background": "light"
          }
        }
      ],
      "source": [
        "#Example Linear Regression\n",
        "import matplotlib.pyplot as plt\n",
        "import numpy as np\n",
        "import statsmodels.api as sm\n",
        "x = [0,1,2,3,4]\n",
        "y = [3,5,5,6,7]\n",
        "x1=sm.add_constant(x)\n",
        "model = sm.OLS(y,x1)\n",
        "results = model.fit()\n",
        "print (results.params)\n",
        "print (results.summary())\n",
        "y_pred=results.predict(x1)\n",
        "plt.scatter(x,y)\n",
        "plt.xlabel(\"X\")\n",
        "plt.ylabel(\"Y\")\n",
        "plt.plot(x,y_pred, \"r\")\n",
        "plt.show()"
      ]
    },
    {
      "cell_type": "markdown",
      "id": "603cbfdf",
      "metadata": {
        "id": "603cbfdf"
      },
      "source": [
        "x1=sm.add_constant(x): This line adds a column of 1's to the input data x. This is necessary because OLS regression requires an intercept term, and adding a column of 1's to the data allows us to estimate the intercept as part of the regression.\n",
        "\n",
        "model = sm.OLS(y,x1): This line creates an OLS model object with the target variable y and the input data x1. The model object contains information about the data, such as the number of observations and variables, as well as methods for fitting and evaluating the model.\n",
        "\n",
        "results = model.fit(): This line fits the OLS model to the data and returns a results object that contains information about the model fit, such as the estimated coefficients, standard errors, and goodness-of-fit statistics. The fit() method uses numerical optimization techniques to find the values of the coefficients that minimize the sum of squared residuals between the predicted values and the actual values of the target variable.\n",
        "\n"
      ]
    },
    {
      "cell_type": "markdown",
      "id": "2c89316c",
      "metadata": {
        "id": "2c89316c"
      },
      "source": [
        "###  K-Means cluster\n",
        "creates a Numpy array named x, which contains two groups of values. It then\n",
        "performs the two-component\n",
        "K-means\n",
        "clustering by using the functions KMeans()\n",
        "and fit(). Finally, it displays the clustering results: the labels of the two clusters\n",
        "and centers of the two clusters and predicts a result for a given sample."
      ]
    },
    {
      "cell_type": "code",
      "execution_count": 21,
      "id": "741c8481",
      "metadata": {
        "colab": {
          "base_uri": "https://localhost:8080/"
        },
        "id": "741c8481",
        "outputId": "bf13cdba-8e16-4320-a5c1-bdb222e37906"
      },
      "outputs": [
        {
          "output_type": "stream",
          "name": "stdout",
          "text": [
            "[1 1 1 0 0 0]\n",
            "[[10.          2.          3.        ]\n",
            " [ 1.          2.          2.66666667]]\n",
            "[0]\n"
          ]
        },
        {
          "output_type": "stream",
          "name": "stderr",
          "text": [
            "/usr/local/lib/python3.8/dist-packages/sklearn/cluster/_kmeans.py:870: FutureWarning: The default value of `n_init` will change from 10 to 'auto' in 1.4. Set the value of `n_init` explicitly to suppress the warning\n",
            "  warnings.warn(\n"
          ]
        }
      ],
      "source": [
        "# Example K-means Clustering\n",
        "from sklearn.cluster import KMeans\n",
        "import numpy as np\n",
        "X = np.array([[1, 2, 3], [1, 4, 2], [1, 0, 3], [10, 2, 4], [9, 4, 3], [11, 0, 2]])\n",
        "kmeans = KMeans(n_clusters=2, random_state=0).fit(X)\n",
        "print(kmeans.labels_)\n",
        "print(kmeans.cluster_centers_)\n",
        "print(kmeans.predict([[12, 3, 1]]))"
      ]
    },
    {
      "cell_type": "code",
      "execution_count": null,
      "id": "31cf24b8",
      "metadata": {
        "id": "31cf24b8"
      },
      "outputs": [],
      "source": []
    },
    {
      "cell_type": "code",
      "execution_count": null,
      "id": "492e4413",
      "metadata": {
        "id": "492e4413"
      },
      "outputs": [],
      "source": []
    }
  ],
  "metadata": {
    "kernelspec": {
      "display_name": "Python 3 (ipykernel)",
      "language": "python",
      "name": "python3"
    },
    "language_info": {
      "codemirror_mode": {
        "name": "ipython",
        "version": 3
      },
      "file_extension": ".py",
      "mimetype": "text/x-python",
      "name": "python",
      "nbconvert_exporter": "python",
      "pygments_lexer": "ipython3",
      "version": "3.11.2"
    },
    "colab": {
      "provenance": [],
      "toc_visible": true,
      "include_colab_link": true
    }
  },
  "nbformat": 4,
  "nbformat_minor": 5
}