{
  "nbformat": 4,
  "nbformat_minor": 0,
  "metadata": {
    "colab": {
      "provenance": [],
      "authorship_tag": "ABX9TyOJmaEWj+WbcHON484bjJAO",
      "include_colab_link": true
    },
    "kernelspec": {
      "name": "python3",
      "display_name": "Python 3"
    },
    "language_info": {
      "name": "python"
    }
  },
  "cells": [
    {
      "cell_type": "markdown",
      "metadata": {
        "id": "view-in-github",
        "colab_type": "text"
      },
      "source": [
        "<a href=\"https://colab.research.google.com/github/MarkNCI/AI-Ml-Diploma/blob/main/MHayden_Assignment.ipynb\" target=\"_parent\"><img src=\"https://colab.research.google.com/assets/colab-badge.svg\" alt=\"Open In Colab\"/></a>"
      ]
    },
    {
      "cell_type": "markdown",
      "source": [
        "# Assignment Description\n",
        "I am using the Personal Key Indicators of Heart Disease dataset from [Kaggle](https://www.kaggle.com/datasets/kamilpytlak/personal-key-indicators-of-heart-disease), which is an annual telephone survey conducted by the United States Center for Disease Control in 2020 with over 400,000 participents.\n",
        "\n",
        "## Column Descriptions\n",
        "\n",
        "```\n",
        "HeartDisease: Respondents that have ever reported having coronary heart disease (CHD) or myocardial infarction (MI).\n",
        "BMI: Body Mass Index (BMI).\n",
        "Smoking: Have you smoked at least 100 cigarettes in your entire life?\n",
        "AlcoholDrinking: Heavy drinkers (adult men having more than 14 drinks per week and adult women having more than 7 drinks per week\n",
        "Stroke: (Ever told) (you had) a stroke?\n",
        "PhysicalHealth: Now thinking about your physical health, which includes physical illness and injury, for how many days during the past 30 days was your physical health not good? (0-30 days).\n",
        "MentalHealth: Thinking about your mental health, for how many days during the past 30 days was your mental health not good? (0-30 days).\n",
        "DiffWalking: Do you have serious difficulty walking or climbing stairs?\n",
        "Sex: Are you male or female?\n",
        "AgeCategory: Fourteen-level age category. (then calculated the mean)\n",
        "Race: Imputed race/ethnicity value.\n",
        "Diabetic: (Ever told) (you had) diabetes?\n",
        "PhysicalActivity: Adults who reported doing physical activity or exercise during the past 30 days other than their regular job.\n",
        "GenHealth: Would you say that in general your health is...\n",
        "SleepTime: On average, how many hours of sleep do you get in a 24-hour period?\n",
        "Asthma: (Ever told) (you had) asthma?\n",
        "KidneyDisease: Not including kidney stones, bladder infection or incontinence, were you ever told you had kidney disease?\n",
        "SkinCancer: (Ever told) (you had) skin cancer?\n",
        "\n",
        "```\n",
        "\n"
      ],
      "metadata": {
        "id": "CpI2lHSQztX8"
      }
    },
    {
      "cell_type": "code",
      "source": [
        "# Load Libraries\n",
        "from google.colab import files\n",
        "import pandas as pd\n",
        "import numpy as np\n",
        "import seaborn as sns\n",
        "import matplotlib.pyplot as plt\n",
        "from sklearn import preprocessing\n",
        "from sklearn.model_selection import train_test_split\n",
        "from sklearn.svm import SVC\n",
        "from sklearn.naive_bayes import GaussianNB\n",
        "from sklearn.tree import DecisionTreeClassifier\n",
        "from sklearn.ensemble import RandomForestClassifier\n",
        "from sklearn.neighbors import KNeighborsClassifier\n",
        "from sklearn.neural_network import MLPClassifier\n",
        "from sklearn.linear_model import LinearRegression\n",
        "from sklearn.cluster import KMeans\n",
        "\n",
        "## Upload Cancer Patients dataset (Goodle Colab) ##\n",
        "# uploaded = files.upload()"
      ],
      "metadata": {
        "id": "BeztuwsCzwU2"
      },
      "execution_count": 1,
      "outputs": []
    },
    {
      "cell_type": "code",
      "source": [
        "# Load dataset\n",
        "df = pd.read_csv('/content/heart_2020_cleaned.csv')\n",
        "df.info()"
      ],
      "metadata": {
        "id": "Q5xh75fb2xnv",
        "colab": {
          "base_uri": "https://localhost:8080/"
        },
        "outputId": "258e2475-729e-4019-fc54-b50f9911b8ce"
      },
      "execution_count": 2,
      "outputs": [
        {
          "output_type": "stream",
          "name": "stdout",
          "text": [
            "<class 'pandas.core.frame.DataFrame'>\n",
            "RangeIndex: 319795 entries, 0 to 319794\n",
            "Data columns (total 18 columns):\n",
            " #   Column            Non-Null Count   Dtype  \n",
            "---  ------            --------------   -----  \n",
            " 0   HeartDisease      319795 non-null  object \n",
            " 1   BMI               319795 non-null  float64\n",
            " 2   Smoking           319795 non-null  object \n",
            " 3   AlcoholDrinking   319795 non-null  object \n",
            " 4   Stroke            319795 non-null  object \n",
            " 5   PhysicalHealth    319795 non-null  float64\n",
            " 6   MentalHealth      319795 non-null  float64\n",
            " 7   DiffWalking       319795 non-null  object \n",
            " 8   Sex               319795 non-null  object \n",
            " 9   AgeCategory       319795 non-null  object \n",
            " 10  Race              319795 non-null  object \n",
            " 11  Diabetic          319795 non-null  object \n",
            " 12  PhysicalActivity  319795 non-null  object \n",
            " 13  GenHealth         319795 non-null  object \n",
            " 14  SleepTime         319795 non-null  float64\n",
            " 15  Asthma            319795 non-null  object \n",
            " 16  KidneyDisease     319795 non-null  object \n",
            " 17  SkinCancer        319795 non-null  object \n",
            "dtypes: float64(4), object(14)\n",
            "memory usage: 43.9+ MB\n"
          ]
        }
      ]
    },
    {
      "cell_type": "markdown",
      "source": [
        "# Dataset Details"
      ],
      "metadata": {
        "id": "eI6HJFRQX2ur"
      }
    },
    {
      "cell_type": "code",
      "source": [
        "print(df.columns,'\\n')\n",
        "df.head()"
      ],
      "metadata": {
        "id": "Il5FCTRKkCoz",
        "colab": {
          "base_uri": "https://localhost:8080/",
          "height": 374
        },
        "outputId": "1e7cf217-fa07-42c2-b45a-3989a9094d70"
      },
      "execution_count": 3,
      "outputs": [
        {
          "output_type": "stream",
          "name": "stdout",
          "text": [
            "Index(['HeartDisease', 'BMI', 'Smoking', 'AlcoholDrinking', 'Stroke',\n",
            "       'PhysicalHealth', 'MentalHealth', 'DiffWalking', 'Sex', 'AgeCategory',\n",
            "       'Race', 'Diabetic', 'PhysicalActivity', 'GenHealth', 'SleepTime',\n",
            "       'Asthma', 'KidneyDisease', 'SkinCancer'],\n",
            "      dtype='object') \n",
            "\n"
          ]
        },
        {
          "output_type": "execute_result",
          "data": {
            "text/plain": [
              "  HeartDisease    BMI Smoking AlcoholDrinking Stroke  PhysicalHealth  \\\n",
              "0           No  16.60     Yes              No     No             3.0   \n",
              "1           No  20.34      No              No    Yes             0.0   \n",
              "2           No  26.58     Yes              No     No            20.0   \n",
              "3           No  24.21      No              No     No             0.0   \n",
              "4           No  23.71      No              No     No            28.0   \n",
              "\n",
              "   MentalHealth DiffWalking     Sex  AgeCategory   Race Diabetic  \\\n",
              "0          30.0          No  Female        55-59  White      Yes   \n",
              "1           0.0          No  Female  80 or older  White       No   \n",
              "2          30.0          No    Male        65-69  White      Yes   \n",
              "3           0.0          No  Female        75-79  White       No   \n",
              "4           0.0         Yes  Female        40-44  White       No   \n",
              "\n",
              "  PhysicalActivity  GenHealth  SleepTime Asthma KidneyDisease SkinCancer  \n",
              "0              Yes  Very good        5.0    Yes            No        Yes  \n",
              "1              Yes  Very good        7.0     No            No         No  \n",
              "2              Yes       Fair        8.0    Yes            No         No  \n",
              "3               No       Good        6.0     No            No        Yes  \n",
              "4              Yes  Very good        8.0     No            No         No  "
            ],
            "text/html": [
              "\n",
              "  <div id=\"df-07f5fad1-530e-4140-8d20-96a17c592d4b\">\n",
              "    <div class=\"colab-df-container\">\n",
              "      <div>\n",
              "<style scoped>\n",
              "    .dataframe tbody tr th:only-of-type {\n",
              "        vertical-align: middle;\n",
              "    }\n",
              "\n",
              "    .dataframe tbody tr th {\n",
              "        vertical-align: top;\n",
              "    }\n",
              "\n",
              "    .dataframe thead th {\n",
              "        text-align: right;\n",
              "    }\n",
              "</style>\n",
              "<table border=\"1\" class=\"dataframe\">\n",
              "  <thead>\n",
              "    <tr style=\"text-align: right;\">\n",
              "      <th></th>\n",
              "      <th>HeartDisease</th>\n",
              "      <th>BMI</th>\n",
              "      <th>Smoking</th>\n",
              "      <th>AlcoholDrinking</th>\n",
              "      <th>Stroke</th>\n",
              "      <th>PhysicalHealth</th>\n",
              "      <th>MentalHealth</th>\n",
              "      <th>DiffWalking</th>\n",
              "      <th>Sex</th>\n",
              "      <th>AgeCategory</th>\n",
              "      <th>Race</th>\n",
              "      <th>Diabetic</th>\n",
              "      <th>PhysicalActivity</th>\n",
              "      <th>GenHealth</th>\n",
              "      <th>SleepTime</th>\n",
              "      <th>Asthma</th>\n",
              "      <th>KidneyDisease</th>\n",
              "      <th>SkinCancer</th>\n",
              "    </tr>\n",
              "  </thead>\n",
              "  <tbody>\n",
              "    <tr>\n",
              "      <th>0</th>\n",
              "      <td>No</td>\n",
              "      <td>16.60</td>\n",
              "      <td>Yes</td>\n",
              "      <td>No</td>\n",
              "      <td>No</td>\n",
              "      <td>3.0</td>\n",
              "      <td>30.0</td>\n",
              "      <td>No</td>\n",
              "      <td>Female</td>\n",
              "      <td>55-59</td>\n",
              "      <td>White</td>\n",
              "      <td>Yes</td>\n",
              "      <td>Yes</td>\n",
              "      <td>Very good</td>\n",
              "      <td>5.0</td>\n",
              "      <td>Yes</td>\n",
              "      <td>No</td>\n",
              "      <td>Yes</td>\n",
              "    </tr>\n",
              "    <tr>\n",
              "      <th>1</th>\n",
              "      <td>No</td>\n",
              "      <td>20.34</td>\n",
              "      <td>No</td>\n",
              "      <td>No</td>\n",
              "      <td>Yes</td>\n",
              "      <td>0.0</td>\n",
              "      <td>0.0</td>\n",
              "      <td>No</td>\n",
              "      <td>Female</td>\n",
              "      <td>80 or older</td>\n",
              "      <td>White</td>\n",
              "      <td>No</td>\n",
              "      <td>Yes</td>\n",
              "      <td>Very good</td>\n",
              "      <td>7.0</td>\n",
              "      <td>No</td>\n",
              "      <td>No</td>\n",
              "      <td>No</td>\n",
              "    </tr>\n",
              "    <tr>\n",
              "      <th>2</th>\n",
              "      <td>No</td>\n",
              "      <td>26.58</td>\n",
              "      <td>Yes</td>\n",
              "      <td>No</td>\n",
              "      <td>No</td>\n",
              "      <td>20.0</td>\n",
              "      <td>30.0</td>\n",
              "      <td>No</td>\n",
              "      <td>Male</td>\n",
              "      <td>65-69</td>\n",
              "      <td>White</td>\n",
              "      <td>Yes</td>\n",
              "      <td>Yes</td>\n",
              "      <td>Fair</td>\n",
              "      <td>8.0</td>\n",
              "      <td>Yes</td>\n",
              "      <td>No</td>\n",
              "      <td>No</td>\n",
              "    </tr>\n",
              "    <tr>\n",
              "      <th>3</th>\n",
              "      <td>No</td>\n",
              "      <td>24.21</td>\n",
              "      <td>No</td>\n",
              "      <td>No</td>\n",
              "      <td>No</td>\n",
              "      <td>0.0</td>\n",
              "      <td>0.0</td>\n",
              "      <td>No</td>\n",
              "      <td>Female</td>\n",
              "      <td>75-79</td>\n",
              "      <td>White</td>\n",
              "      <td>No</td>\n",
              "      <td>No</td>\n",
              "      <td>Good</td>\n",
              "      <td>6.0</td>\n",
              "      <td>No</td>\n",
              "      <td>No</td>\n",
              "      <td>Yes</td>\n",
              "    </tr>\n",
              "    <tr>\n",
              "      <th>4</th>\n",
              "      <td>No</td>\n",
              "      <td>23.71</td>\n",
              "      <td>No</td>\n",
              "      <td>No</td>\n",
              "      <td>No</td>\n",
              "      <td>28.0</td>\n",
              "      <td>0.0</td>\n",
              "      <td>Yes</td>\n",
              "      <td>Female</td>\n",
              "      <td>40-44</td>\n",
              "      <td>White</td>\n",
              "      <td>No</td>\n",
              "      <td>Yes</td>\n",
              "      <td>Very good</td>\n",
              "      <td>8.0</td>\n",
              "      <td>No</td>\n",
              "      <td>No</td>\n",
              "      <td>No</td>\n",
              "    </tr>\n",
              "  </tbody>\n",
              "</table>\n",
              "</div>\n",
              "      <button class=\"colab-df-convert\" onclick=\"convertToInteractive('df-07f5fad1-530e-4140-8d20-96a17c592d4b')\"\n",
              "              title=\"Convert this dataframe to an interactive table.\"\n",
              "              style=\"display:none;\">\n",
              "        \n",
              "  <svg xmlns=\"http://www.w3.org/2000/svg\" height=\"24px\"viewBox=\"0 0 24 24\"\n",
              "       width=\"24px\">\n",
              "    <path d=\"M0 0h24v24H0V0z\" fill=\"none\"/>\n",
              "    <path d=\"M18.56 5.44l.94 2.06.94-2.06 2.06-.94-2.06-.94-.94-2.06-.94 2.06-2.06.94zm-11 1L8.5 8.5l.94-2.06 2.06-.94-2.06-.94L8.5 2.5l-.94 2.06-2.06.94zm10 10l.94 2.06.94-2.06 2.06-.94-2.06-.94-.94-2.06-.94 2.06-2.06.94z\"/><path d=\"M17.41 7.96l-1.37-1.37c-.4-.4-.92-.59-1.43-.59-.52 0-1.04.2-1.43.59L10.3 9.45l-7.72 7.72c-.78.78-.78 2.05 0 2.83L4 21.41c.39.39.9.59 1.41.59.51 0 1.02-.2 1.41-.59l7.78-7.78 2.81-2.81c.8-.78.8-2.07 0-2.86zM5.41 20L4 18.59l7.72-7.72 1.47 1.35L5.41 20z\"/>\n",
              "  </svg>\n",
              "      </button>\n",
              "      \n",
              "  <style>\n",
              "    .colab-df-container {\n",
              "      display:flex;\n",
              "      flex-wrap:wrap;\n",
              "      gap: 12px;\n",
              "    }\n",
              "\n",
              "    .colab-df-convert {\n",
              "      background-color: #E8F0FE;\n",
              "      border: none;\n",
              "      border-radius: 50%;\n",
              "      cursor: pointer;\n",
              "      display: none;\n",
              "      fill: #1967D2;\n",
              "      height: 32px;\n",
              "      padding: 0 0 0 0;\n",
              "      width: 32px;\n",
              "    }\n",
              "\n",
              "    .colab-df-convert:hover {\n",
              "      background-color: #E2EBFA;\n",
              "      box-shadow: 0px 1px 2px rgba(60, 64, 67, 0.3), 0px 1px 3px 1px rgba(60, 64, 67, 0.15);\n",
              "      fill: #174EA6;\n",
              "    }\n",
              "\n",
              "    [theme=dark] .colab-df-convert {\n",
              "      background-color: #3B4455;\n",
              "      fill: #D2E3FC;\n",
              "    }\n",
              "\n",
              "    [theme=dark] .colab-df-convert:hover {\n",
              "      background-color: #434B5C;\n",
              "      box-shadow: 0px 1px 3px 1px rgba(0, 0, 0, 0.15);\n",
              "      filter: drop-shadow(0px 1px 2px rgba(0, 0, 0, 0.3));\n",
              "      fill: #FFFFFF;\n",
              "    }\n",
              "  </style>\n",
              "\n",
              "      <script>\n",
              "        const buttonEl =\n",
              "          document.querySelector('#df-07f5fad1-530e-4140-8d20-96a17c592d4b button.colab-df-convert');\n",
              "        buttonEl.style.display =\n",
              "          google.colab.kernel.accessAllowed ? 'block' : 'none';\n",
              "\n",
              "        async function convertToInteractive(key) {\n",
              "          const element = document.querySelector('#df-07f5fad1-530e-4140-8d20-96a17c592d4b');\n",
              "          const dataTable =\n",
              "            await google.colab.kernel.invokeFunction('convertToInteractive',\n",
              "                                                     [key], {});\n",
              "          if (!dataTable) return;\n",
              "\n",
              "          const docLinkHtml = 'Like what you see? Visit the ' +\n",
              "            '<a target=\"_blank\" href=https://colab.research.google.com/notebooks/data_table.ipynb>data table notebook</a>'\n",
              "            + ' to learn more about interactive tables.';\n",
              "          element.innerHTML = '';\n",
              "          dataTable['output_type'] = 'display_data';\n",
              "          await google.colab.output.renderOutput(dataTable, element);\n",
              "          const docLink = document.createElement('div');\n",
              "          docLink.innerHTML = docLinkHtml;\n",
              "          element.appendChild(docLink);\n",
              "        }\n",
              "      </script>\n",
              "    </div>\n",
              "  </div>\n",
              "  "
            ]
          },
          "metadata": {},
          "execution_count": 3
        }
      ]
    },
    {
      "cell_type": "code",
      "source": [
        "# Count nulls\n",
        "df.isna().sum()"
      ],
      "metadata": {
        "id": "KUHjpf31dBhk",
        "colab": {
          "base_uri": "https://localhost:8080/"
        },
        "outputId": "312667c5-38ee-4573-d6ea-6cc1d8373984"
      },
      "execution_count": 4,
      "outputs": [
        {
          "output_type": "execute_result",
          "data": {
            "text/plain": [
              "HeartDisease        0\n",
              "BMI                 0\n",
              "Smoking             0\n",
              "AlcoholDrinking     0\n",
              "Stroke              0\n",
              "PhysicalHealth      0\n",
              "MentalHealth        0\n",
              "DiffWalking         0\n",
              "Sex                 0\n",
              "AgeCategory         0\n",
              "Race                0\n",
              "Diabetic            0\n",
              "PhysicalActivity    0\n",
              "GenHealth           0\n",
              "SleepTime           0\n",
              "Asthma              0\n",
              "KidneyDisease       0\n",
              "SkinCancer          0\n",
              "dtype: int64"
            ]
          },
          "metadata": {},
          "execution_count": 4
        }
      ]
    },
    {
      "cell_type": "code",
      "source": [
        "# Categorical columns\n",
        "categorical = ['HeartDisease', 'Smoking', 'AlcoholDrinking', 'Stroke', 'DiffWalking', 'Sex', 'Race', \n",
        "               'Diabetic', 'PhysicalActivity', 'GenHealth', 'Asthma', 'KidneyDisease', 'SkinCancer']\n",
        "\n",
        "for cat in categorical:\n",
        "  print(cat)\n",
        "  print(np.unique(df[cat].values))"
      ],
      "metadata": {
        "id": "TIB7NuSfeoj0",
        "colab": {
          "base_uri": "https://localhost:8080/"
        },
        "outputId": "2049b91b-5d8f-4556-e77b-31270927ea9f"
      },
      "execution_count": 5,
      "outputs": [
        {
          "output_type": "stream",
          "name": "stdout",
          "text": [
            "HeartDisease\n",
            "['No' 'Yes']\n",
            "Smoking\n",
            "['No' 'Yes']\n",
            "AlcoholDrinking\n",
            "['No' 'Yes']\n",
            "Stroke\n",
            "['No' 'Yes']\n",
            "DiffWalking\n",
            "['No' 'Yes']\n",
            "Sex\n",
            "['Female' 'Male']\n",
            "Race\n",
            "['American Indian/Alaskan Native' 'Asian' 'Black' 'Hispanic' 'Other'\n",
            " 'White']\n",
            "Diabetic\n",
            "['No' 'No, borderline diabetes' 'Yes' 'Yes (during pregnancy)']\n",
            "PhysicalActivity\n",
            "['No' 'Yes']\n",
            "GenHealth\n",
            "['Excellent' 'Fair' 'Good' 'Poor' 'Very good']\n",
            "Asthma\n",
            "['No' 'Yes']\n",
            "KidneyDisease\n",
            "['No' 'Yes']\n",
            "SkinCancer\n",
            "['No' 'Yes']\n"
          ]
        }
      ]
    },
    {
      "cell_type": "code",
      "source": [
        "# Stats per Categorical column\n",
        "colors = sns.color_palette('pastel')[0:5]\n",
        "plt.pie(df['HeartDisease'].value_counts(),labels = df['HeartDisease'].unique(), colors = colors, autopct='%.0f%%')\n",
        "plt.title('HeartDisease')\n",
        "plt.show()\n",
        "\n",
        "colors = sns.color_palette('pastel')[0:5]\n",
        "plt.pie(df['Smoking'].value_counts(),labels = df['Smoking'].unique(), colors = colors, autopct='%.0f%%')\n",
        "plt.title('Smoking')\n",
        "plt.show()\n",
        "\n",
        "colors = sns.color_palette('pastel')[0:5]\n",
        "plt.pie(df['AlcoholDrinking'].value_counts(),labels = df['AlcoholDrinking'].unique(), colors = colors, autopct='%.0f%%')\n",
        "plt.title('AlcoholDrinking')\n",
        "plt.show()\n",
        "\n",
        "colors = sns.color_palette('pastel')[0:5]\n",
        "plt.pie(df['Stroke'].value_counts(),labels = df['Stroke'].unique(), colors = colors, autopct='%.0f%%')\n",
        "plt.title('Stroke')\n",
        "plt.show()\n",
        "\n",
        "colors = sns.color_palette('pastel')[0:5]\n",
        "plt.pie(df['Sex'].value_counts(),labels = df['Sex'].unique(), colors = colors, autopct='%.0f%%')\n",
        "plt.title('Sex')\n",
        "plt.show()\n",
        "\n",
        "colors = sns.color_palette('pastel')[0:5]\n",
        "plt.pie(df['DiffWalking'].value_counts(),labels = df['DiffWalking'].unique(), colors = colors, autopct='%.0f%%')\n",
        "plt.title('DiffWalking')\n",
        "plt.show()\n",
        "\n",
        "colors = sns.color_palette('pastel')[0:5]\n",
        "plt.pie(df['Race'].value_counts(),labels = df['Race'].unique(), colors = colors, autopct='%.0f%%')\n",
        "plt.title('Race')\n",
        "plt.show()\n",
        "\n",
        "colors = sns.color_palette('pastel')[0:5]\n",
        "plt.pie(df['Diabetic'].value_counts(),labels = df['Diabetic'].unique(), colors = colors, autopct='%.0f%%')\n",
        "plt.title('Diabetic')\n",
        "plt.show()\n",
        "\n",
        "colors = sns.color_palette('pastel')[0:5]\n",
        "plt.pie(df['PhysicalActivity'].value_counts(),labels = df['PhysicalActivity'].unique(), colors = colors, autopct='%.0f%%')\n",
        "plt.title('PhysicalActivity')\n",
        "plt.show()\n",
        "\n",
        "colors = sns.color_palette('pastel')[0:5]\n",
        "plt.pie(df['GenHealth'].value_counts(),labels = df['GenHealth'].unique(), colors = colors, autopct='%.0f%%')\n",
        "plt.title('GenHealth')\n",
        "plt.show()\n",
        "\n",
        "colors = sns.color_palette('pastel')[0:5]\n",
        "plt.pie(df['Asthma'].value_counts(),labels = df['Asthma'].unique(), colors = colors, autopct='%.0f%%')\n",
        "plt.title('Asthma')\n",
        "plt.show()\n",
        "\n",
        "colors = sns.color_palette('pastel')[0:5]\n",
        "plt.pie(df['KidneyDisease'].value_counts(),labels = df['KidneyDisease'].unique(), colors = colors, autopct='%.0f%%')\n",
        "plt.title('KidneyDisease')\n",
        "plt.show()\n",
        "\n",
        "colors = sns.color_palette('pastel')[0:5]\n",
        "plt.pie(df['SkinCancer'].value_counts(),labels = df['SkinCancer'].unique(), colors = colors, autopct='%.0f%%')\n",
        "plt.title('SkinCancer')\n",
        "plt.show()"
      ],
      "metadata": {
        "id": "hQMQ4B9zy2p5",
        "colab": {
          "base_uri": "https://localhost:8080/",
          "height": 1000
        },
        "outputId": "62888767-43b5-443b-f8af-a3edf1e99f42"
      },
      "execution_count": null,
      "outputs": [
        {
          "output_type": "display_data",
          "data": {
            "text/plain": [
              "<Figure size 640x480 with 1 Axes>"
            ],
            "image/png": "[encoded data removed]"
          },
          "metadata": {}
        },
        {
          "output_type": "display_data",
          "data": {
            "text/plain": [
              "<Figure size 640x480 with 1 Axes>"
            ],
            "image/png": "[encoded data removed]"
          },
          "metadata": {}
        },
        {
          "output_type": "display_data",
          "data": {
            "text/plain": [
              "<Figure size 640x480 with 1 Axes>"
            ],
            "image/png": "[encoded data removed]"
          },
          "metadata": {}
        },
        {
          "output_type": "display_data",
          "data": {
            "text/plain": [
              "<Figure size 640x480 with 1 Axes>"
            ],
            "image/png": "[encoded data removed]"
          },
          "metadata": {}
        },
        {
          "output_type": "display_data",
          "data": {
            "text/plain": [
              "<Figure size 640x480 with 1 Axes>"
            ],
            "image/png": "[encoded data removed]"
          },
          "metadata": {}
        },
        {
          "output_type": "display_data",
          "data": {
            "text/plain": [
              "<Figure size 640x480 with 1 Axes>"
            ],
            "image/png": "[encoded data removed]"
          },
          "metadata": {}
        },
        {
          "output_type": "display_data",
          "data": {
            "text/plain": [
              "<Figure size 640x480 with 1 Axes>"
            ],
            "image/png": "[encoded data removed]"
          },
          "metadata": {}
        },
        {
          "output_type": "display_data",
          "data": {
            "text/plain": [
              "<Figure size 640x480 with 1 Axes>"
            ],
            "image/png": "[encoded data removed]"
          },
          "metadata": {}
        },
        {
          "output_type": "display_data",
          "data": {
            "text/plain": [
              "<Figure size 640x480 with 1 Axes>"
            ],
            "image/png": "[encoded data removed]"
          },
          "metadata": {}
        },
        {
          "output_type": "display_data",
          "data": {
            "text/plain": [
              "<Figure size 640x480 with 1 Axes>"
            ],
            "image/png": "[encoded data removed]"
          },
          "metadata": {}
        },
        {
          "output_type": "display_data",
          "data": {
            "text/plain": [
              "<Figure size 640x480 with 1 Axes>"
            ],
            "image/png": "[encoded data removed]"
          },
          "metadata": {}
        },
        {
          "output_type": "display_data",
          "data": {
            "text/plain": [
              "<Figure size 640x480 with 1 Axes>"
            ],
            "image/png": "[encoded data removed]"
          },
          "metadata": {}
        },
        {
          "output_type": "display_data",
          "data": {
            "text/plain": [
              "<Figure size 640x480 with 1 Axes>"
            ],
            "image/png": "[encoded data removed]"
          },
          "metadata": {}
        }
      ]
    },
    {
      "cell_type": "markdown",
      "source": [
        "# Feature Extraction"
      ],
      "metadata": {
        "id": "cyDhXKRNYEWx"
      }
    },
    {
      "cell_type": "code",
      "source": [
        "# Converting ages into mean\n",
        "print(df['AgeCategory'].unique())\n",
        "df['Age'] = df['AgeCategory'].apply(lambda x: '57' if x == '55-59' else '80' if x == '80 or older' \n",
        "                                    else '67' if x == '65-69' else '77' if x == '75-79' else '42' if x == '40-44'\n",
        "                                    else '72' if x == '70-74' else '62' if x == '60-64' else '52' if x == '50-54' \n",
        "                                    else '47' if x == '45-49' else '20' if x == '18-24' else '37' if x == '35-39' \n",
        "                                    else '32' if x == '30-34' else '27' if x == '25-29' else x)\n",
        "print(df['Age'].unique())\n",
        "df = df.drop(columns=['AgeCategory'])\n",
        "df.columns"
      ],
      "metadata": {
        "id": "60kk_DS71tdB",
        "colab": {
          "base_uri": "https://localhost:8080/"
        },
        "outputId": "60fe0bee-db39-484f-df40-192c05e4289c"
      },
      "execution_count": 6,
      "outputs": [
        {
          "output_type": "stream",
          "name": "stdout",
          "text": [
            "['55-59' '80 or older' '65-69' '75-79' '40-44' '70-74' '60-64' '50-54'\n",
            " '45-49' '18-24' '35-39' '30-34' '25-29']\n",
            "['57' '80' '67' '77' '42' '72' '62' '52' '47' '20' '37' '32' '27']\n"
          ]
        },
        {
          "output_type": "execute_result",
          "data": {
            "text/plain": [
              "Index(['HeartDisease', 'BMI', 'Smoking', 'AlcoholDrinking', 'Stroke',\n",
              "       'PhysicalHealth', 'MentalHealth', 'DiffWalking', 'Sex', 'Race',\n",
              "       'Diabetic', 'PhysicalActivity', 'GenHealth', 'SleepTime', 'Asthma',\n",
              "       'KidneyDisease', 'SkinCancer', 'Age'],\n",
              "      dtype='object')"
            ]
          },
          "metadata": {},
          "execution_count": 6
        }
      ]
    },
    {
      "cell_type": "code",
      "source": [
        "# Numerical columns: Normalise between 0 and 1\n",
        "numerical = ['BMI', 'PhysicalHealth', 'MentalHealth', 'SleepTime']\n",
        "for num in numerical:\n",
        "  df[num] = df[num]/df[num].max()\n",
        "\n",
        "df[numerical]"
      ],
      "metadata": {
        "id": "2q7iPNxyAjbm",
        "colab": {
          "base_uri": "https://localhost:8080/",
          "height": 423
        },
        "outputId": "0f34303c-5125-4d4a-b27a-1c209d0b755d"
      },
      "execution_count": 7,
      "outputs": [
        {
          "output_type": "execute_result",
          "data": {
            "text/plain": [
              "             BMI  PhysicalHealth  MentalHealth  SleepTime\n",
              "0       0.175013        0.100000           1.0   0.208333\n",
              "1       0.214444        0.000000           0.0   0.291667\n",
              "2       0.280232        0.666667           1.0   0.333333\n",
              "3       0.255245        0.000000           0.0   0.250000\n",
              "4       0.249974        0.933333           0.0   0.333333\n",
              "...          ...             ...           ...        ...\n",
              "319790  0.288983        0.233333           0.0   0.250000\n",
              "319791  0.314602        0.000000           0.0   0.208333\n",
              "319792  0.255561        0.000000           0.0   0.250000\n",
              "319793  0.345915        0.000000           0.0   0.500000\n",
              "319794  0.490880        0.000000           0.0   0.333333\n",
              "\n",
              "[319795 rows x 4 columns]"
            ],
            "text/html": [
              "\n",
              "  <div id=\"df-c2cc9c8c-b4fc-4760-a9d1-597749ced6be\">\n",
              "    <div class=\"colab-df-container\">\n",
              "      <div>\n",
              "<style scoped>\n",
              "    .dataframe tbody tr th:only-of-type {\n",
              "        vertical-align: middle;\n",
              "    }\n",
              "\n",
              "    .dataframe tbody tr th {\n",
              "        vertical-align: top;\n",
              "    }\n",
              "\n",
              "    .dataframe thead th {\n",
              "        text-align: right;\n",
              "    }\n",
              "</style>\n",
              "<table border=\"1\" class=\"dataframe\">\n",
              "  <thead>\n",
              "    <tr style=\"text-align: right;\">\n",
              "      <th></th>\n",
              "      <th>BMI</th>\n",
              "      <th>PhysicalHealth</th>\n",
              "      <th>MentalHealth</th>\n",
              "      <th>SleepTime</th>\n",
              "    </tr>\n",
              "  </thead>\n",
              "  <tbody>\n",
              "    <tr>\n",
              "      <th>0</th>\n",
              "      <td>0.175013</td>\n",
              "      <td>0.100000</td>\n",
              "      <td>1.0</td>\n",
              "      <td>0.208333</td>\n",
              "    </tr>\n",
              "    <tr>\n",
              "      <th>1</th>\n",
              "      <td>0.214444</td>\n",
              "      <td>0.000000</td>\n",
              "      <td>0.0</td>\n",
              "      <td>0.291667</td>\n",
              "    </tr>\n",
              "    <tr>\n",
              "      <th>2</th>\n",
              "      <td>0.280232</td>\n",
              "      <td>0.666667</td>\n",
              "      <td>1.0</td>\n",
              "      <td>0.333333</td>\n",
              "    </tr>\n",
              "    <tr>\n",
              "      <th>3</th>\n",
              "      <td>0.255245</td>\n",
              "      <td>0.000000</td>\n",
              "      <td>0.0</td>\n",
              "      <td>0.250000</td>\n",
              "    </tr>\n",
              "    <tr>\n",
              "      <th>4</th>\n",
              "      <td>0.249974</td>\n",
              "      <td>0.933333</td>\n",
              "      <td>0.0</td>\n",
              "      <td>0.333333</td>\n",
              "    </tr>\n",
              "    <tr>\n",
              "      <th>...</th>\n",
              "      <td>...</td>\n",
              "      <td>...</td>\n",
              "      <td>...</td>\n",
              "      <td>...</td>\n",
              "    </tr>\n",
              "    <tr>\n",
              "      <th>319790</th>\n",
              "      <td>0.288983</td>\n",
              "      <td>0.233333</td>\n",
              "      <td>0.0</td>\n",
              "      <td>0.250000</td>\n",
              "    </tr>\n",
              "    <tr>\n",
              "      <th>319791</th>\n",
              "      <td>0.314602</td>\n",
              "      <td>0.000000</td>\n",
              "      <td>0.0</td>\n",
              "      <td>0.208333</td>\n",
              "    </tr>\n",
              "    <tr>\n",
              "      <th>319792</th>\n",
              "      <td>0.255561</td>\n",
              "      <td>0.000000</td>\n",
              "      <td>0.0</td>\n",
              "      <td>0.250000</td>\n",
              "    </tr>\n",
              "    <tr>\n",
              "      <th>319793</th>\n",
              "      <td>0.345915</td>\n",
              "      <td>0.000000</td>\n",
              "      <td>0.0</td>\n",
              "      <td>0.500000</td>\n",
              "    </tr>\n",
              "    <tr>\n",
              "      <th>319794</th>\n",
              "      <td>0.490880</td>\n",
              "      <td>0.000000</td>\n",
              "      <td>0.0</td>\n",
              "      <td>0.333333</td>\n",
              "    </tr>\n",
              "  </tbody>\n",
              "</table>\n",
              "<p>319795 rows × 4 columns</p>\n",
              "</div>\n",
              "      <button class=\"colab-df-convert\" onclick=\"convertToInteractive('df-c2cc9c8c-b4fc-4760-a9d1-597749ced6be')\"\n",
              "              title=\"Convert this dataframe to an interactive table.\"\n",
              "              style=\"display:none;\">\n",
              "        \n",
              "  <svg xmlns=\"http://www.w3.org/2000/svg\" height=\"24px\"viewBox=\"0 0 24 24\"\n",
              "       width=\"24px\">\n",
              "    <path d=\"M0 0h24v24H0V0z\" fill=\"none\"/>\n",
              "    <path d=\"M18.56 5.44l.94 2.06.94-2.06 2.06-.94-2.06-.94-.94-2.06-.94 2.06-2.06.94zm-11 1L8.5 8.5l.94-2.06 2.06-.94-2.06-.94L8.5 2.5l-.94 2.06-2.06.94zm10 10l.94 2.06.94-2.06 2.06-.94-2.06-.94-.94-2.06-.94 2.06-2.06.94z\"/><path d=\"M17.41 7.96l-1.37-1.37c-.4-.4-.92-.59-1.43-.59-.52 0-1.04.2-1.43.59L10.3 9.45l-7.72 7.72c-.78.78-.78 2.05 0 2.83L4 21.41c.39.39.9.59 1.41.59.51 0 1.02-.2 1.41-.59l7.78-7.78 2.81-2.81c.8-.78.8-2.07 0-2.86zM5.41 20L4 18.59l7.72-7.72 1.47 1.35L5.41 20z\"/>\n",
              "  </svg>\n",
              "      </button>\n",
              "      \n",
              "  <style>\n",
              "    .colab-df-container {\n",
              "      display:flex;\n",
              "      flex-wrap:wrap;\n",
              "      gap: 12px;\n",
              "    }\n",
              "\n",
              "    .colab-df-convert {\n",
              "      background-color: #E8F0FE;\n",
              "      border: none;\n",
              "      border-radius: 50%;\n",
              "      cursor: pointer;\n",
              "      display: none;\n",
              "      fill: #1967D2;\n",
              "      height: 32px;\n",
              "      padding: 0 0 0 0;\n",
              "      width: 32px;\n",
              "    }\n",
              "\n",
              "    .colab-df-convert:hover {\n",
              "      background-color: #E2EBFA;\n",
              "      box-shadow: 0px 1px 2px rgba(60, 64, 67, 0.3), 0px 1px 3px 1px rgba(60, 64, 67, 0.15);\n",
              "      fill: #174EA6;\n",
              "    }\n",
              "\n",
              "    [theme=dark] .colab-df-convert {\n",
              "      background-color: #3B4455;\n",
              "      fill: #D2E3FC;\n",
              "    }\n",
              "\n",
              "    [theme=dark] .colab-df-convert:hover {\n",
              "      background-color: #434B5C;\n",
              "      box-shadow: 0px 1px 3px 1px rgba(0, 0, 0, 0.15);\n",
              "      filter: drop-shadow(0px 1px 2px rgba(0, 0, 0, 0.3));\n",
              "      fill: #FFFFFF;\n",
              "    }\n",
              "  </style>\n",
              "\n",
              "      <script>\n",
              "        const buttonEl =\n",
              "          document.querySelector('#df-c2cc9c8c-b4fc-4760-a9d1-597749ced6be button.colab-df-convert');\n",
              "        buttonEl.style.display =\n",
              "          google.colab.kernel.accessAllowed ? 'block' : 'none';\n",
              "\n",
              "        async function convertToInteractive(key) {\n",
              "          const element = document.querySelector('#df-c2cc9c8c-b4fc-4760-a9d1-597749ced6be');\n",
              "          const dataTable =\n",
              "            await google.colab.kernel.invokeFunction('convertToInteractive',\n",
              "                                                     [key], {});\n",
              "          if (!dataTable) return;\n",
              "\n",
              "          const docLinkHtml = 'Like what you see? Visit the ' +\n",
              "            '<a target=\"_blank\" href=https://colab.research.google.com/notebooks/data_table.ipynb>data table notebook</a>'\n",
              "            + ' to learn more about interactive tables.';\n",
              "          element.innerHTML = '';\n",
              "          dataTable['output_type'] = 'display_data';\n",
              "          await google.colab.output.renderOutput(dataTable, element);\n",
              "          const docLink = document.createElement('div');\n",
              "          docLink.innerHTML = docLinkHtml;\n",
              "          element.appendChild(docLink);\n",
              "        }\n",
              "      </script>\n",
              "    </div>\n",
              "  </div>\n",
              "  "
            ]
          },
          "metadata": {},
          "execution_count": 7
        }
      ]
    },
    {
      "cell_type": "code",
      "source": [
        "# Count unique values in categorical columns\n",
        "print(df[['HeartDisease', 'Smoking', 'AlcoholDrinking', 'Stroke', 'DiffWalking', 'Sex', 'Race', \n",
        " 'Diabetic', 'PhysicalActivity', 'GenHealth', 'Asthma', 'KidneyDisease', 'SkinCancer']].nunique()>2)"
      ],
      "metadata": {
        "colab": {
          "base_uri": "https://localhost:8080/"
        },
        "id": "e_fXDUIGR5mA",
        "outputId": "a7a126be-c1b6-4605-e99d-99583934e350"
      },
      "execution_count": 8,
      "outputs": [
        {
          "output_type": "stream",
          "name": "stdout",
          "text": [
            "HeartDisease        False\n",
            "Smoking             False\n",
            "AlcoholDrinking     False\n",
            "Stroke              False\n",
            "DiffWalking         False\n",
            "Sex                 False\n",
            "Race                 True\n",
            "Diabetic             True\n",
            "PhysicalActivity    False\n",
            "GenHealth            True\n",
            "Asthma              False\n",
            "KidneyDisease       False\n",
            "SkinCancer          False\n",
            "dtype: bool\n"
          ]
        }
      ]
    },
    {
      "cell_type": "code",
      "source": [
        "# For columns with 2 unique values, sklearn labelencoder\n",
        "encoder = preprocessing.LabelEncoder()\n",
        "for col in df[['HeartDisease', 'Smoking', 'AlcoholDrinking', 'Stroke', 'DiffWalking', 'Sex', 'PhysicalActivity', 'Asthma', 'KidneyDisease', 'SkinCancer']]:\n",
        "  df[col] = encoder.fit_transform(df[col])\n",
        "\n",
        "# One Hot Encoding for columns with more than 2 unique values\n",
        "df = pd.get_dummies(df, columns=['Race', 'Diabetic', 'GenHealth'], prefix= ['Race', 'Diabetic', 'GenHealth'])\n",
        "df.head()"
      ],
      "metadata": {
        "id": "URMdZL93Gt7D",
        "colab": {
          "base_uri": "https://localhost:8080/",
          "height": 334
        },
        "outputId": "08edea7a-cf5a-49ea-e030-bbc654fce365"
      },
      "execution_count": 9,
      "outputs": [
        {
          "output_type": "execute_result",
          "data": {
            "text/plain": [
              "   HeartDisease       BMI  Smoking  AlcoholDrinking  Stroke  PhysicalHealth  \\\n",
              "0             0  0.175013        1                0       0        0.100000   \n",
              "1             0  0.214444        0                0       1        0.000000   \n",
              "2             0  0.280232        1                0       0        0.666667   \n",
              "3             0  0.255245        0                0       0        0.000000   \n",
              "4             0  0.249974        0                0       0        0.933333   \n",
              "\n",
              "   MentalHealth  DiffWalking  Sex  PhysicalActivity  ...  Race_White  \\\n",
              "0           1.0            0    0                 1  ...           1   \n",
              "1           0.0            0    0                 1  ...           1   \n",
              "2           1.0            0    1                 1  ...           1   \n",
              "3           0.0            0    0                 0  ...           1   \n",
              "4           0.0            1    0                 1  ...           1   \n",
              "\n",
              "   Diabetic_No  Diabetic_No, borderline diabetes  Diabetic_Yes  \\\n",
              "0            0                                 0             1   \n",
              "1            1                                 0             0   \n",
              "2            0                                 0             1   \n",
              "3            1                                 0             0   \n",
              "4            1                                 0             0   \n",
              "\n",
              "  Diabetic_Yes (during pregnancy)  GenHealth_Excellent  GenHealth_Fair  \\\n",
              "0                               0                    0               0   \n",
              "1                               0                    0               0   \n",
              "2                               0                    0               1   \n",
              "3                               0                    0               0   \n",
              "4                               0                    0               0   \n",
              "\n",
              "   GenHealth_Good  GenHealth_Poor  GenHealth_Very good  \n",
              "0               0               0                    1  \n",
              "1               0               0                    1  \n",
              "2               0               0                    0  \n",
              "3               1               0                    0  \n",
              "4               0               0                    1  \n",
              "\n",
              "[5 rows x 30 columns]"
            ],
            "text/html": [
              "\n",
              "  <div id=\"df-4912b05a-f7c5-4d45-85e3-18d0c5451f3b\">\n",
              "    <div class=\"colab-df-container\">\n",
              "      <div>\n",
              "<style scoped>\n",
              "    .dataframe tbody tr th:only-of-type {\n",
              "        vertical-align: middle;\n",
              "    }\n",
              "\n",
              "    .dataframe tbody tr th {\n",
              "        vertical-align: top;\n",
              "    }\n",
              "\n",
              "    .dataframe thead th {\n",
              "        text-align: right;\n",
              "    }\n",
              "</style>\n",
              "<table border=\"1\" class=\"dataframe\">\n",
              "  <thead>\n",
              "    <tr style=\"text-align: right;\">\n",
              "      <th></th>\n",
              "      <th>HeartDisease</th>\n",
              "      <th>BMI</th>\n",
              "      <th>Smoking</th>\n",
              "      <th>AlcoholDrinking</th>\n",
              "      <th>Stroke</th>\n",
              "      <th>PhysicalHealth</th>\n",
              "      <th>MentalHealth</th>\n",
              "      <th>DiffWalking</th>\n",
              "      <th>Sex</th>\n",
              "      <th>PhysicalActivity</th>\n",
              "      <th>...</th>\n",
              "      <th>Race_White</th>\n",
              "      <th>Diabetic_No</th>\n",
              "      <th>Diabetic_No, borderline diabetes</th>\n",
              "      <th>Diabetic_Yes</th>\n",
              "      <th>Diabetic_Yes (during pregnancy)</th>\n",
              "      <th>GenHealth_Excellent</th>\n",
              "      <th>GenHealth_Fair</th>\n",
              "      <th>GenHealth_Good</th>\n",
              "      <th>GenHealth_Poor</th>\n",
              "      <th>GenHealth_Very good</th>\n",
              "    </tr>\n",
              "  </thead>\n",
              "  <tbody>\n",
              "    <tr>\n",
              "      <th>0</th>\n",
              "      <td>0</td>\n",
              "      <td>0.175013</td>\n",
              "      <td>1</td>\n",
              "      <td>0</td>\n",
              "      <td>0</td>\n",
              "      <td>0.100000</td>\n",
              "      <td>1.0</td>\n",
              "      <td>0</td>\n",
              "      <td>0</td>\n",
              "      <td>1</td>\n",
              "      <td>...</td>\n",
              "      <td>1</td>\n",
              "      <td>0</td>\n",
              "      <td>0</td>\n",
              "      <td>1</td>\n",
              "      <td>0</td>\n",
              "      <td>0</td>\n",
              "      <td>0</td>\n",
              "      <td>0</td>\n",
              "      <td>0</td>\n",
              "      <td>1</td>\n",
              "    </tr>\n",
              "    <tr>\n",
              "      <th>1</th>\n",
              "      <td>0</td>\n",
              "      <td>0.214444</td>\n",
              "      <td>0</td>\n",
              "      <td>0</td>\n",
              "      <td>1</td>\n",
              "      <td>0.000000</td>\n",
              "      <td>0.0</td>\n",
              "      <td>0</td>\n",
              "      <td>0</td>\n",
              "      <td>1</td>\n",
              "      <td>...</td>\n",
              "      <td>1</td>\n",
              "      <td>1</td>\n",
              "      <td>0</td>\n",
              "      <td>0</td>\n",
              "      <td>0</td>\n",
              "      <td>0</td>\n",
              "      <td>0</td>\n",
              "      <td>0</td>\n",
              "      <td>0</td>\n",
              "      <td>1</td>\n",
              "    </tr>\n",
              "    <tr>\n",
              "      <th>2</th>\n",
              "      <td>0</td>\n",
              "      <td>0.280232</td>\n",
              "      <td>1</td>\n",
              "      <td>0</td>\n",
              "      <td>0</td>\n",
              "      <td>0.666667</td>\n",
              "      <td>1.0</td>\n",
              "      <td>0</td>\n",
              "      <td>1</td>\n",
              "      <td>1</td>\n",
              "      <td>...</td>\n",
              "      <td>1</td>\n",
              "      <td>0</td>\n",
              "      <td>0</td>\n",
              "      <td>1</td>\n",
              "      <td>0</td>\n",
              "      <td>0</td>\n",
              "      <td>1</td>\n",
              "      <td>0</td>\n",
              "      <td>0</td>\n",
              "      <td>0</td>\n",
              "    </tr>\n",
              "    <tr>\n",
              "      <th>3</th>\n",
              "      <td>0</td>\n",
              "      <td>0.255245</td>\n",
              "      <td>0</td>\n",
              "      <td>0</td>\n",
              "      <td>0</td>\n",
              "      <td>0.000000</td>\n",
              "      <td>0.0</td>\n",
              "      <td>0</td>\n",
              "      <td>0</td>\n",
              "      <td>0</td>\n",
              "      <td>...</td>\n",
              "      <td>1</td>\n",
              "      <td>1</td>\n",
              "      <td>0</td>\n",
              "      <td>0</td>\n",
              "      <td>0</td>\n",
              "      <td>0</td>\n",
              "      <td>0</td>\n",
              "      <td>1</td>\n",
              "      <td>0</td>\n",
              "      <td>0</td>\n",
              "    </tr>\n",
              "    <tr>\n",
              "      <th>4</th>\n",
              "      <td>0</td>\n",
              "      <td>0.249974</td>\n",
              "      <td>0</td>\n",
              "      <td>0</td>\n",
              "      <td>0</td>\n",
              "      <td>0.933333</td>\n",
              "      <td>0.0</td>\n",
              "      <td>1</td>\n",
              "      <td>0</td>\n",
              "      <td>1</td>\n",
              "      <td>...</td>\n",
              "      <td>1</td>\n",
              "      <td>1</td>\n",
              "      <td>0</td>\n",
              "      <td>0</td>\n",
              "      <td>0</td>\n",
              "      <td>0</td>\n",
              "      <td>0</td>\n",
              "      <td>0</td>\n",
              "      <td>0</td>\n",
              "      <td>1</td>\n",
              "    </tr>\n",
              "  </tbody>\n",
              "</table>\n",
              "<p>5 rows × 30 columns</p>\n",
              "</div>\n",
              "      <button class=\"colab-df-convert\" onclick=\"convertToInteractive('df-4912b05a-f7c5-4d45-85e3-18d0c5451f3b')\"\n",
              "              title=\"Convert this dataframe to an interactive table.\"\n",
              "              style=\"display:none;\">\n",
              "        \n",
              "  <svg xmlns=\"http://www.w3.org/2000/svg\" height=\"24px\"viewBox=\"0 0 24 24\"\n",
              "       width=\"24px\">\n",
              "    <path d=\"M0 0h24v24H0V0z\" fill=\"none\"/>\n",
              "    <path d=\"M18.56 5.44l.94 2.06.94-2.06 2.06-.94-2.06-.94-.94-2.06-.94 2.06-2.06.94zm-11 1L8.5 8.5l.94-2.06 2.06-.94-2.06-.94L8.5 2.5l-.94 2.06-2.06.94zm10 10l.94 2.06.94-2.06 2.06-.94-2.06-.94-.94-2.06-.94 2.06-2.06.94z\"/><path d=\"M17.41 7.96l-1.37-1.37c-.4-.4-.92-.59-1.43-.59-.52 0-1.04.2-1.43.59L10.3 9.45l-7.72 7.72c-.78.78-.78 2.05 0 2.83L4 21.41c.39.39.9.59 1.41.59.51 0 1.02-.2 1.41-.59l7.78-7.78 2.81-2.81c.8-.78.8-2.07 0-2.86zM5.41 20L4 18.59l7.72-7.72 1.47 1.35L5.41 20z\"/>\n",
              "  </svg>\n",
              "      </button>\n",
              "      \n",
              "  <style>\n",
              "    .colab-df-container {\n",
              "      display:flex;\n",
              "      flex-wrap:wrap;\n",
              "      gap: 12px;\n",
              "    }\n",
              "\n",
              "    .colab-df-convert {\n",
              "      background-color: #E8F0FE;\n",
              "      border: none;\n",
              "      border-radius: 50%;\n",
              "      cursor: pointer;\n",
              "      display: none;\n",
              "      fill: #1967D2;\n",
              "      height: 32px;\n",
              "      padding: 0 0 0 0;\n",
              "      width: 32px;\n",
              "    }\n",
              "\n",
              "    .colab-df-convert:hover {\n",
              "      background-color: #E2EBFA;\n",
              "      box-shadow: 0px 1px 2px rgba(60, 64, 67, 0.3), 0px 1px 3px 1px rgba(60, 64, 67, 0.15);\n",
              "      fill: #174EA6;\n",
              "    }\n",
              "\n",
              "    [theme=dark] .colab-df-convert {\n",
              "      background-color: #3B4455;\n",
              "      fill: #D2E3FC;\n",
              "    }\n",
              "\n",
              "    [theme=dark] .colab-df-convert:hover {\n",
              "      background-color: #434B5C;\n",
              "      box-shadow: 0px 1px 3px 1px rgba(0, 0, 0, 0.15);\n",
              "      filter: drop-shadow(0px 1px 2px rgba(0, 0, 0, 0.3));\n",
              "      fill: #FFFFFF;\n",
              "    }\n",
              "  </style>\n",
              "\n",
              "      <script>\n",
              "        const buttonEl =\n",
              "          document.querySelector('#df-4912b05a-f7c5-4d45-85e3-18d0c5451f3b button.colab-df-convert');\n",
              "        buttonEl.style.display =\n",
              "          google.colab.kernel.accessAllowed ? 'block' : 'none';\n",
              "\n",
              "        async function convertToInteractive(key) {\n",
              "          const element = document.querySelector('#df-4912b05a-f7c5-4d45-85e3-18d0c5451f3b');\n",
              "          const dataTable =\n",
              "            await google.colab.kernel.invokeFunction('convertToInteractive',\n",
              "                                                     [key], {});\n",
              "          if (!dataTable) return;\n",
              "\n",
              "          const docLinkHtml = 'Like what you see? Visit the ' +\n",
              "            '<a target=\"_blank\" href=https://colab.research.google.com/notebooks/data_table.ipynb>data table notebook</a>'\n",
              "            + ' to learn more about interactive tables.';\n",
              "          element.innerHTML = '';\n",
              "          dataTable['output_type'] = 'display_data';\n",
              "          await google.colab.output.renderOutput(dataTable, element);\n",
              "          const docLink = document.createElement('div');\n",
              "          docLink.innerHTML = docLinkHtml;\n",
              "          element.appendChild(docLink);\n",
              "        }\n",
              "      </script>\n",
              "    </div>\n",
              "  </div>\n",
              "  "
            ]
          },
          "metadata": {},
          "execution_count": 9
        }
      ]
    },
    {
      "cell_type": "code",
      "source": [
        "# Checking to see if dataset is balanced\n",
        "train_df = df[:int(len(df)*0.8)]\n",
        "test_df = df[int(len(df)*0.8):]\n",
        "print(train_df['HeartDisease'].value_counts())\n",
        "print(test_df['HeartDisease'].value_counts())"
      ],
      "metadata": {
        "id": "BCmjOx6SxstH",
        "outputId": "cc1e853e-5396-42bd-f23b-204a2560c8ff",
        "colab": {
          "base_uri": "https://localhost:8080/"
        }
      },
      "execution_count": 10,
      "outputs": [
        {
          "output_type": "stream",
          "name": "stdout",
          "text": [
            "0    233851\n",
            "1     21985\n",
            "Name: HeartDisease, dtype: int64\n",
            "0    58571\n",
            "1     5388\n",
            "Name: HeartDisease, dtype: int64\n"
          ]
        }
      ]
    },
    {
      "cell_type": "code",
      "source": [
        "# As dataset is imbalanced, will oversample to balance out\n",
        "no_heartdisease = train_df[train_df['HeartDisease'] == 0]\n",
        "has_heartdisease = train_df[train_df['HeartDisease'] == 1]\n",
        "\n",
        "has_heartdisease = has_heartdisease.sample(len(no_heartdisease),replace=True)\n",
        "train_df = pd.concat([no_heartdisease, has_heartdisease], axis=0)\n",
        "print(train_df['HeartDisease'].value_counts())\n",
        "\n",
        "# As dataset is imbalanced, will oversample to balance out\n",
        "no_heartdisease = test_df[test_df['HeartDisease'] == 0]\n",
        "has_heartdisease = test_df[test_df['HeartDisease'] == 1]\n",
        "\n",
        "has_heartdisease = has_heartdisease.sample(len(no_heartdisease),replace=True)\n",
        "test_df = pd.concat([no_heartdisease, has_heartdisease], axis=0)\n",
        "print(test_df['HeartDisease'].value_counts())"
      ],
      "metadata": {
        "id": "LowV3jGG7CH9",
        "outputId": "c9b296fc-cf5f-40b3-a8d2-cd0af2c141cc",
        "colab": {
          "base_uri": "https://localhost:8080/"
        }
      },
      "execution_count": 11,
      "outputs": [
        {
          "output_type": "stream",
          "name": "stdout",
          "text": [
            "0    233851\n",
            "1    233851\n",
            "Name: HeartDisease, dtype: int64\n",
            "0    58571\n",
            "1    58571\n",
            "Name: HeartDisease, dtype: int64\n"
          ]
        }
      ]
    },
    {
      "cell_type": "code",
      "source": [
        "print('ready')"
      ],
      "metadata": {
        "id": "vrjzBkh4Cwb7",
        "outputId": "62c397f0-97d0-4667-d891-fd12d0241d35",
        "colab": {
          "base_uri": "https://localhost:8080/"
        }
      },
      "execution_count": 9,
      "outputs": [
        {
          "output_type": "stream",
          "name": "stdout",
          "text": [
            "ready\n"
          ]
        }
      ]
    },
    {
      "cell_type": "code",
      "source": [
        "# X_train = np.array(train_df[['BMI', 'Smoking', 'AlcoholDrinking', 'Stroke',\n",
        "#        'PhysicalHealth', 'MentalHealth', 'DiffWalking', 'Sex', 'Age',\n",
        "#        'PhysicalActivity', 'SleepTime', 'Asthma', 'KidneyDisease',\n",
        "#        'SkinCancer', 'Race_American Indian/Alaskan Native', 'Race_Asian',\n",
        "#        'Race_Black', 'Race_Hispanic', 'Race_Other', 'Race_White',\n",
        "#        'Diabetic_No', 'Diabetic_No, borderline diabetes', 'Diabetic_Yes',\n",
        "#        'Diabetic_Yes (during pregnancy)', 'GenHealth_Excellent',\n",
        "#        'GenHealth_Fair', 'GenHealth_Good', 'GenHealth_Poor',\n",
        "#        'GenHealth_Very good']])\n",
        "# y_train = np.array(train_df['HeartDisease'])\n",
        "\n",
        "# X_test = np.array(test_df[['BMI', 'Smoking', 'AlcoholDrinking', 'Stroke',\n",
        "#        'PhysicalHealth', 'MentalHealth', 'DiffWalking', 'Sex', 'Age',\n",
        "#        'PhysicalActivity', 'SleepTime', 'Asthma', 'KidneyDisease',\n",
        "#        'SkinCancer', 'Race_American Indian/Alaskan Native', 'Race_Asian',\n",
        "#        'Race_Black', 'Race_Hispanic', 'Race_Other', 'Race_White',\n",
        "#        'Diabetic_No', 'Diabetic_No, borderline diabetes', 'Diabetic_Yes',\n",
        "#        'Diabetic_Yes (during pregnancy)', 'GenHealth_Excellent',\n",
        "#        'GenHealth_Fair', 'GenHealth_Good', 'GenHealth_Poor',\n",
        "#        'GenHealth_Very good']])\n",
        "# y_test = np.array(test_df['HeartDisease'])"
      ],
      "metadata": {
        "id": "YZEA1OwFCT7D"
      },
      "execution_count": null,
      "outputs": []
    },
    {
      "cell_type": "code",
      "source": [
        "X_train = train_df[['BMI', 'Smoking', 'AlcoholDrinking', 'Stroke',\n",
        "       'PhysicalHealth', 'MentalHealth', 'DiffWalking', 'Sex', 'Age',\n",
        "       'PhysicalActivity', 'SleepTime', 'Asthma', 'KidneyDisease',\n",
        "       'SkinCancer', 'Race_American Indian/Alaskan Native', 'Race_Asian',\n",
        "       'Race_Black', 'Race_Hispanic', 'Race_Other', 'Race_White',\n",
        "       'Diabetic_No', 'Diabetic_No, borderline diabetes', 'Diabetic_Yes',\n",
        "       'Diabetic_Yes (during pregnancy)', 'GenHealth_Excellent',\n",
        "       'GenHealth_Fair', 'GenHealth_Good', 'GenHealth_Poor',\n",
        "       'GenHealth_Very good']]\n",
        "y_train = train_df['HeartDisease']\n",
        "\n",
        "X_test = test_df[['BMI', 'Smoking', 'AlcoholDrinking', 'Stroke',\n",
        "       'PhysicalHealth', 'MentalHealth', 'DiffWalking', 'Sex', 'Age',\n",
        "       'PhysicalActivity', 'SleepTime', 'Asthma', 'KidneyDisease',\n",
        "       'SkinCancer', 'Race_American Indian/Alaskan Native', 'Race_Asian',\n",
        "       'Race_Black', 'Race_Hispanic', 'Race_Other', 'Race_White',\n",
        "       'Diabetic_No', 'Diabetic_No, borderline diabetes', 'Diabetic_Yes',\n",
        "       'Diabetic_Yes (during pregnancy)', 'GenHealth_Excellent',\n",
        "       'GenHealth_Fair', 'GenHealth_Good', 'GenHealth_Poor',\n",
        "       'GenHealth_Very good']]\n",
        "y_test = test_df['HeartDisease']"
      ],
      "metadata": {
        "id": "Ek7Jx6XYDyKT"
      },
      "execution_count": 12,
      "outputs": []
    },
    {
      "cell_type": "code",
      "source": [
        "X_train = np.asarray(X_train).astype(np.float32)\n",
        "X_test = np.asarray(X_test).astype(np.float32)\n",
        "y_train = np.asarray(y_train).astype(np.float32)\n",
        "y_test = np.asarray(y_test).astype(np.float32)"
      ],
      "metadata": {
        "id": "cEmgOfqrDzeu"
      },
      "execution_count": 13,
      "outputs": []
    },
    {
      "cell_type": "markdown",
      "source": [
        "\n",
        "\n",
        "```\n",
        "TODO:\n",
        "1) Hyperparameter tuning on Neural network\n",
        "```\n",
        "\n"
      ],
      "metadata": {
        "id": "jm2vB691_6Sa"
      }
    },
    {
      "cell_type": "code",
      "source": [
        "%%time\n",
        "dt = DecisionTreeClassifier().fit(X_train, y_train)\n",
        "score = dt.score(X_test, y_test)\n",
        "print(str(score))"
      ],
      "metadata": {
        "colab": {
          "base_uri": "https://localhost:8080/"
        },
        "id": "n6KG8EXiLZVq",
        "outputId": "0e6e82fd-ecd2-489c-cf65-8ee603877e92"
      },
      "execution_count": 14,
      "outputs": [
        {
          "output_type": "stream",
          "name": "stdout",
          "text": [
            "0.5763005582967681\n",
            "CPU times: user 4.95 s, sys: 430 µs, total: 4.95 s\n",
            "Wall time: 8.12 s\n"
          ]
        }
      ]
    },
    {
      "cell_type": "code",
      "source": [
        "%%time\n",
        "rf = RandomForestClassifier().fit(X_train, y_train)\n",
        "score = rf.score(X_test, y_test)\n",
        "print(str(score))"
      ],
      "metadata": {
        "id": "1kIhSN_zD8mZ",
        "outputId": "c5b51ba4-dbf2-4ef9-97af-ada11a013c81",
        "colab": {
          "base_uri": "https://localhost:8080/"
        }
      },
      "execution_count": 15,
      "outputs": [
        {
          "output_type": "stream",
          "name": "stdout",
          "text": [
            "0.5854518447695959\n",
            "CPU times: user 1min 15s, sys: 487 ms, total: 1min 15s\n",
            "Wall time: 1min 16s\n"
          ]
        }
      ]
    },
    {
      "cell_type": "code",
      "source": [
        "%%time\n",
        "dt = KNeighborsClassifier().fit(X_train, y_train)\n",
        "score = dt.score(X_test, y_test)\n",
        "print(str(score))"
      ],
      "metadata": {
        "colab": {
          "base_uri": "https://localhost:8080/"
        },
        "id": "QFFu40s5L3rY",
        "outputId": "9808c700-5998-41d5-ca1a-3c9e03717dfd"
      },
      "execution_count": 18,
      "outputs": [
        {
          "output_type": "stream",
          "name": "stdout",
          "text": [
            "0.6567584640863225\n",
            "CPU times: user 9min 27s, sys: 777 ms, total: 9min 27s\n",
            "Wall time: 5min 37s\n"
          ]
        }
      ]
    },
    {
      "cell_type": "code",
      "source": [
        "%%time\n",
        "nb = GaussianNB().fit(X_train, y_train)\n",
        "score = nb.score(X_test, y_test)\n",
        "print(str(score))"
      ],
      "metadata": {
        "colab": {
          "base_uri": "https://localhost:8080/"
        },
        "id": "C_TYqcLxL3tN",
        "outputId": "7b0d6037-908b-4614-9a7c-ced012618521"
      },
      "execution_count": 16,
      "outputs": [
        {
          "output_type": "stream",
          "name": "stdout",
          "text": [
            "0.7179235457820423\n",
            "CPU times: user 213 ms, sys: 21 ms, total: 234 ms\n",
            "Wall time: 236 ms\n"
          ]
        }
      ]
    },
    {
      "cell_type": "code",
      "source": [
        "%%time\n",
        "mlp = MLPClassifier(random_state=1, max_iter=300,alpha=1).fit(X_train, y_train)\n",
        "score = mlp.score(X_test, y_test)\n",
        "print(str(score))"
      ],
      "metadata": {
        "colab": {
          "base_uri": "https://localhost:8080/"
        },
        "id": "wSXvqA2aFJTe",
        "outputId": "a08ff656-1f17-4011-d44d-2fb6ea616c19"
      },
      "execution_count": 19,
      "outputs": [
        {
          "output_type": "stream",
          "name": "stdout",
          "text": [
            "0.759129944853255\n",
            "CPU times: user 7min 48s, sys: 3min 48s, total: 11min 37s\n",
            "Wall time: 6min 41s\n"
          ]
        }
      ]
    },
    {
      "cell_type": "code",
      "source": [
        "%%time\n",
        "lr = LinearRegression().fit(X_train, y_train)\n",
        "score = lr.score(X_test, y_test)\n",
        "print(str(score))"
      ],
      "metadata": {
        "colab": {
          "base_uri": "https://localhost:8080/"
        },
        "id": "Ek9vXuBbGgDu",
        "outputId": "d7c7e0fe-9781-456a-fe4c-fad18fd9cff6"
      },
      "execution_count": 17,
      "outputs": [
        {
          "output_type": "stream",
          "name": "stdout",
          "text": [
            "0.3254826729380911\n",
            "CPU times: user 640 ms, sys: 239 ms, total: 878 ms\n",
            "Wall time: 808 ms\n"
          ]
        }
      ]
    },
    {
      "cell_type": "code",
      "source": [
        "# X_train = train_df[['BMI', 'Smoking', 'AlcoholDrinking', 'Stroke',\n",
        "#        'PhysicalHealth', 'MentalHealth', 'DiffWalking', 'Sex', 'Age',\n",
        "#        'PhysicalActivity', 'SleepTime', 'Asthma', 'KidneyDisease',\n",
        "#        'SkinCancer', 'Race_American Indian/Alaskan Native', 'Race_Asian',\n",
        "#        'Race_Black', 'Race_Hispanic', 'Race_Other', 'Race_White',\n",
        "#        'Diabetic_No', 'Diabetic_No, borderline diabetes', 'Diabetic_Yes',\n",
        "#        'Diabetic_Yes (during pregnancy)', 'GenHealth_Excellent',\n",
        "#        'GenHealth_Fair', 'GenHealth_Good', 'GenHealth_Poor',\n",
        "#        'GenHealth_Very good']]\n",
        "# y_train = train_df['HeartDisease']\n",
        "\n",
        "# X_test = test_df[['BMI', 'Smoking', 'AlcoholDrinking', 'Stroke',\n",
        "#        'PhysicalHealth', 'MentalHealth', 'DiffWalking', 'Sex', 'Age',\n",
        "#        'PhysicalActivity', 'SleepTime', 'Asthma', 'KidneyDisease',\n",
        "#        'SkinCancer', 'Race_American Indian/Alaskan Native', 'Race_Asian',\n",
        "#        'Race_Black', 'Race_Hispanic', 'Race_Other', 'Race_White',\n",
        "#        'Diabetic_No', 'Diabetic_No, borderline diabetes', 'Diabetic_Yes',\n",
        "#        'Diabetic_Yes (during pregnancy)', 'GenHealth_Excellent',\n",
        "#        'GenHealth_Fair', 'GenHealth_Good', 'GenHealth_Poor',\n",
        "#        'GenHealth_Very good']]\n",
        "# y_test = test_df['HeartDisease']"
      ],
      "metadata": {
        "id": "VRr7AvXlVZ8C"
      },
      "execution_count": null,
      "outputs": []
    },
    {
      "cell_type": "code",
      "source": [
        "len(train_df.columns)"
      ],
      "metadata": {
        "id": "m2yRtXpFW05a",
        "outputId": "2a6efb73-6622-4b85-d529-5a676ced680e",
        "colab": {
          "base_uri": "https://localhost:8080/"
        }
      },
      "execution_count": 20,
      "outputs": [
        {
          "output_type": "execute_result",
          "data": {
            "text/plain": [
              "30"
            ]
          },
          "metadata": {},
          "execution_count": 20
        }
      ]
    },
    {
      "cell_type": "code",
      "source": [
        "# X_train = np.asarray(X_train).astype(np.float32)\n",
        "# X_test = np.asarray(X_test).astype(np.float32)\n",
        "# X_train"
      ],
      "metadata": {
        "id": "EoCzQzPyR80W"
      },
      "execution_count": 21,
      "outputs": []
    },
    {
      "cell_type": "code",
      "source": [
        "# y_train = np.asarray(y_train).astype(np.float32)\n",
        "# y_test = np.asarray(y_test).astype(np.float32)\n",
        "# y_test"
      ],
      "metadata": {
        "id": "9JOCZfrzWQqr"
      },
      "execution_count": 22,
      "outputs": []
    },
    {
      "cell_type": "code",
      "source": [
        "# Neural Network\n",
        "from keras.models import Sequential\n",
        "from keras.layers import Dense\n",
        "model = Sequential()\n",
        "model.add(Dense(50, input_dim=29, activation='relu'))\n",
        "model.add(Dense(50, activation='relu'))\n",
        "model.add(Dense(50, activation='relu'))\n",
        "model.add(Dense(50, activation='relu'))\n",
        "model.add(Dense(1, activation='sigmoid'))"
      ],
      "metadata": {
        "id": "-ejKHtdAO15J"
      },
      "execution_count": 34,
      "outputs": []
    },
    {
      "cell_type": "code",
      "source": [
        "model.compile(optimizer='adam',loss='binary_crossentropy',metrics=['accuracy'])\n",
        "model.fit(X_train, y_train, epochs=100, verbose=1)"
      ],
      "metadata": {
        "id": "qRzEQ2Q7RewK",
        "outputId": "84b2dc0d-b141-4af5-d1cb-a1143fcb8dc6",
        "colab": {
          "base_uri": "https://localhost:8080/"
        }
      },
      "execution_count": 35,
      "outputs": [
        {
          "output_type": "stream",
          "name": "stdout",
          "text": [
            "Epoch 1/100\n",
            "14616/14616 [==============================] - 40s 3ms/step - loss: 0.4973 - accuracy: 0.7608\n",
            "Epoch 2/100\n",
            "14616/14616 [==============================] - 36s 2ms/step - loss: 0.4895 - accuracy: 0.7654\n",
            "Epoch 3/100\n",
            "14616/14616 [==============================] - 35s 2ms/step - loss: 0.4877 - accuracy: 0.7669\n",
            "Epoch 4/100\n",
            "14616/14616 [==============================] - 35s 2ms/step - loss: 0.4863 - accuracy: 0.7672\n",
            "Epoch 5/100\n",
            "14616/14616 [==============================] - 36s 2ms/step - loss: 0.4854 - accuracy: 0.7672\n",
            "Epoch 6/100\n",
            "14616/14616 [==============================] - 35s 2ms/step - loss: 0.4845 - accuracy: 0.7677\n",
            "Epoch 7/100\n",
            "14616/14616 [==============================] - 35s 2ms/step - loss: 0.4835 - accuracy: 0.7679\n",
            "Epoch 8/100\n",
            "14616/14616 [==============================] - 35s 2ms/step - loss: 0.4826 - accuracy: 0.7681\n",
            "Epoch 9/100\n",
            "14616/14616 [==============================] - 36s 2ms/step - loss: 0.4817 - accuracy: 0.7685\n",
            "Epoch 10/100\n",
            "14616/14616 [==============================] - 34s 2ms/step - loss: 0.4808 - accuracy: 0.7686\n",
            "Epoch 11/100\n",
            "14616/14616 [==============================] - 34s 2ms/step - loss: 0.4800 - accuracy: 0.7687\n",
            "Epoch 12/100\n",
            "14616/14616 [==============================] - 36s 2ms/step - loss: 0.4789 - accuracy: 0.7692\n",
            "Epoch 13/100\n",
            "14616/14616 [==============================] - 36s 2ms/step - loss: 0.4783 - accuracy: 0.7695\n",
            "Epoch 14/100\n",
            "14616/14616 [==============================] - 36s 2ms/step - loss: 0.4779 - accuracy: 0.7696\n",
            "Epoch 15/100\n",
            "14616/14616 [==============================] - 36s 2ms/step - loss: 0.4772 - accuracy: 0.7700\n",
            "Epoch 16/100\n",
            "14616/14616 [==============================] - 35s 2ms/step - loss: 0.4766 - accuracy: 0.7701\n",
            "Epoch 17/100\n",
            "14616/14616 [==============================] - 36s 2ms/step - loss: 0.4757 - accuracy: 0.7702\n",
            "Epoch 18/100\n",
            "14616/14616 [==============================] - 36s 2ms/step - loss: 0.4753 - accuracy: 0.7706\n",
            "Epoch 19/100\n",
            "14616/14616 [==============================] - 36s 2ms/step - loss: 0.4746 - accuracy: 0.7707\n",
            "Epoch 20/100\n",
            "14616/14616 [==============================] - 35s 2ms/step - loss: 0.4740 - accuracy: 0.7712\n",
            "Epoch 21/100\n",
            "14616/14616 [==============================] - 36s 2ms/step - loss: 0.4736 - accuracy: 0.7715\n",
            "Epoch 22/100\n",
            "14616/14616 [==============================] - 37s 3ms/step - loss: 0.4727 - accuracy: 0.7718\n",
            "Epoch 23/100\n",
            "14616/14616 [==============================] - 36s 2ms/step - loss: 0.4726 - accuracy: 0.7716\n",
            "Epoch 24/100\n",
            "14616/14616 [==============================] - 36s 2ms/step - loss: 0.4719 - accuracy: 0.7717\n",
            "Epoch 25/100\n",
            "14616/14616 [==============================] - 36s 2ms/step - loss: 0.4716 - accuracy: 0.7721\n",
            "Epoch 26/100\n",
            "14616/14616 [==============================] - 37s 3ms/step - loss: 0.4711 - accuracy: 0.7725\n",
            "Epoch 27/100\n",
            "14616/14616 [==============================] - 35s 2ms/step - loss: 0.4706 - accuracy: 0.7726\n",
            "Epoch 28/100\n",
            "14616/14616 [==============================] - 36s 2ms/step - loss: 0.4703 - accuracy: 0.7725\n",
            "Epoch 29/100\n",
            "14616/14616 [==============================] - 36s 2ms/step - loss: 0.4698 - accuracy: 0.7725\n",
            "Epoch 30/100\n",
            "14616/14616 [==============================] - 36s 2ms/step - loss: 0.4694 - accuracy: 0.7732\n",
            "Epoch 31/100\n",
            "14616/14616 [==============================] - 37s 2ms/step - loss: 0.4693 - accuracy: 0.7729\n",
            "Epoch 32/100\n",
            "14616/14616 [==============================] - 37s 3ms/step - loss: 0.4690 - accuracy: 0.7733\n",
            "Epoch 33/100\n",
            "14616/14616 [==============================] - 36s 2ms/step - loss: 0.4688 - accuracy: 0.7734\n",
            "Epoch 34/100\n",
            "14616/14616 [==============================] - 34s 2ms/step - loss: 0.4683 - accuracy: 0.7739\n",
            "Epoch 35/100\n",
            "14616/14616 [==============================] - 36s 2ms/step - loss: 0.4679 - accuracy: 0.7740\n",
            "Epoch 36/100\n",
            "14616/14616 [==============================] - 36s 2ms/step - loss: 0.4679 - accuracy: 0.7740\n",
            "Epoch 37/100\n",
            "14616/14616 [==============================] - 36s 2ms/step - loss: 0.4675 - accuracy: 0.7741\n",
            "Epoch 38/100\n",
            "14616/14616 [==============================] - 36s 2ms/step - loss: 0.4670 - accuracy: 0.7746\n",
            "Epoch 39/100\n",
            "14616/14616 [==============================] - 36s 2ms/step - loss: 0.4666 - accuracy: 0.7746\n",
            "Epoch 40/100\n",
            "14616/14616 [==============================] - 37s 2ms/step - loss: 0.4669 - accuracy: 0.7744\n",
            "Epoch 41/100\n",
            "14616/14616 [==============================] - 37s 3ms/step - loss: 0.4663 - accuracy: 0.7749\n",
            "Epoch 42/100\n",
            "14616/14616 [==============================] - 37s 3ms/step - loss: 0.4664 - accuracy: 0.7749\n",
            "Epoch 43/100\n",
            "14616/14616 [==============================] - 36s 2ms/step - loss: 0.4656 - accuracy: 0.7747\n",
            "Epoch 44/100\n",
            "14616/14616 [==============================] - 37s 3ms/step - loss: 0.4657 - accuracy: 0.7754\n",
            "Epoch 45/100\n",
            "14616/14616 [==============================] - 36s 2ms/step - loss: 0.4651 - accuracy: 0.7754\n",
            "Epoch 46/100\n",
            "14616/14616 [==============================] - 37s 2ms/step - loss: 0.4649 - accuracy: 0.7753\n",
            "Epoch 47/100\n",
            "14616/14616 [==============================] - 36s 2ms/step - loss: 0.4644 - accuracy: 0.7757\n",
            "Epoch 48/100\n",
            "14616/14616 [==============================] - 35s 2ms/step - loss: 0.4645 - accuracy: 0.7758\n",
            "Epoch 49/100\n",
            "14616/14616 [==============================] - 36s 2ms/step - loss: 0.4643 - accuracy: 0.7759\n",
            "Epoch 50/100\n",
            "14616/14616 [==============================] - 37s 3ms/step - loss: 0.4646 - accuracy: 0.7756\n",
            "Epoch 51/100\n",
            "14616/14616 [==============================] - 39s 3ms/step - loss: 0.4639 - accuracy: 0.7757\n",
            "Epoch 52/100\n",
            "14616/14616 [==============================] - 37s 3ms/step - loss: 0.4637 - accuracy: 0.7760\n",
            "Epoch 53/100\n",
            "14616/14616 [==============================] - 37s 3ms/step - loss: 0.4636 - accuracy: 0.7762\n",
            "Epoch 54/100\n",
            "14616/14616 [==============================] - 35s 2ms/step - loss: 0.4634 - accuracy: 0.7763\n",
            "Epoch 55/100\n",
            "14616/14616 [==============================] - 37s 3ms/step - loss: 0.4633 - accuracy: 0.7766\n",
            "Epoch 56/100\n",
            "14616/14616 [==============================] - 37s 3ms/step - loss: 0.4633 - accuracy: 0.7759\n",
            "Epoch 57/100\n",
            "14616/14616 [==============================] - 37s 3ms/step - loss: 0.4624 - accuracy: 0.7771\n",
            "Epoch 58/100\n",
            "14616/14616 [==============================] - 37s 2ms/step - loss: 0.4627 - accuracy: 0.7766\n",
            "Epoch 59/100\n",
            "14616/14616 [==============================] - 36s 2ms/step - loss: 0.4626 - accuracy: 0.7768\n",
            "Epoch 60/100\n",
            "14616/14616 [==============================] - 36s 2ms/step - loss: 0.4623 - accuracy: 0.7773\n",
            "Epoch 61/100\n",
            "14616/14616 [==============================] - 37s 2ms/step - loss: 0.4621 - accuracy: 0.7768\n",
            "Epoch 62/100\n",
            "14616/14616 [==============================] - 36s 2ms/step - loss: 0.4619 - accuracy: 0.7775\n",
            "Epoch 63/100\n",
            "14616/14616 [==============================] - 37s 3ms/step - loss: 0.4615 - accuracy: 0.7772\n",
            "Epoch 64/100\n",
            "14616/14616 [==============================] - 35s 2ms/step - loss: 0.4621 - accuracy: 0.7770\n",
            "Epoch 65/100\n",
            "14616/14616 [==============================] - 36s 2ms/step - loss: 0.4618 - accuracy: 0.7774\n",
            "Epoch 66/100\n",
            "14616/14616 [==============================] - 36s 2ms/step - loss: 0.4612 - accuracy: 0.7776\n",
            "Epoch 67/100\n",
            "14616/14616 [==============================] - 37s 3ms/step - loss: 0.4612 - accuracy: 0.7774\n",
            "Epoch 68/100\n",
            "14616/14616 [==============================] - 35s 2ms/step - loss: 0.4613 - accuracy: 0.7772\n",
            "Epoch 69/100\n",
            "14616/14616 [==============================] - 36s 2ms/step - loss: 0.4610 - accuracy: 0.7778\n",
            "Epoch 70/100\n",
            "14616/14616 [==============================] - 36s 2ms/step - loss: 0.4610 - accuracy: 0.7776\n",
            "Epoch 71/100\n",
            "14616/14616 [==============================] - 36s 2ms/step - loss: 0.4604 - accuracy: 0.7771\n",
            "Epoch 72/100\n",
            "14616/14616 [==============================] - 35s 2ms/step - loss: 0.4607 - accuracy: 0.7776\n",
            "Epoch 73/100\n",
            "14616/14616 [==============================] - 36s 2ms/step - loss: 0.4605 - accuracy: 0.7778\n",
            "Epoch 74/100\n",
            "14616/14616 [==============================] - 35s 2ms/step - loss: 0.4603 - accuracy: 0.7777\n",
            "Epoch 75/100\n",
            "14616/14616 [==============================] - 36s 2ms/step - loss: 0.4597 - accuracy: 0.7780\n",
            "Epoch 76/100\n",
            "14616/14616 [==============================] - 36s 2ms/step - loss: 0.4600 - accuracy: 0.7780\n",
            "Epoch 77/100\n",
            "14616/14616 [==============================] - 37s 3ms/step - loss: 0.4597 - accuracy: 0.7782\n",
            "Epoch 78/100\n",
            "14616/14616 [==============================] - 37s 3ms/step - loss: 0.4598 - accuracy: 0.7781\n",
            "Epoch 79/100\n",
            "14616/14616 [==============================] - 37s 3ms/step - loss: 0.4597 - accuracy: 0.7783\n",
            "Epoch 80/100\n",
            "14616/14616 [==============================] - 37s 3ms/step - loss: 0.4594 - accuracy: 0.7784\n",
            "Epoch 81/100\n",
            "14616/14616 [==============================] - 37s 3ms/step - loss: 0.4597 - accuracy: 0.7783\n",
            "Epoch 82/100\n",
            "14616/14616 [==============================] - 36s 2ms/step - loss: 0.4595 - accuracy: 0.7785\n",
            "Epoch 83/100\n",
            "14616/14616 [==============================] - 37s 3ms/step - loss: 0.4590 - accuracy: 0.7786\n",
            "Epoch 84/100\n",
            "14616/14616 [==============================] - 36s 2ms/step - loss: 0.4591 - accuracy: 0.7788\n",
            "Epoch 85/100\n",
            "14616/14616 [==============================] - 37s 3ms/step - loss: 0.4588 - accuracy: 0.7784\n",
            "Epoch 86/100\n",
            "14616/14616 [==============================] - 36s 2ms/step - loss: 0.4588 - accuracy: 0.7787\n",
            "Epoch 87/100\n",
            "14616/14616 [==============================] - 35s 2ms/step - loss: 0.4588 - accuracy: 0.7787\n",
            "Epoch 88/100\n",
            "14616/14616 [==============================] - 36s 2ms/step - loss: 0.4588 - accuracy: 0.7789\n",
            "Epoch 89/100\n",
            "14616/14616 [==============================] - 36s 2ms/step - loss: 0.4584 - accuracy: 0.7787\n",
            "Epoch 90/100\n",
            "14616/14616 [==============================] - 35s 2ms/step - loss: 0.4584 - accuracy: 0.7786\n",
            "Epoch 91/100\n",
            "14616/14616 [==============================] - 37s 3ms/step - loss: 0.4582 - accuracy: 0.7792\n",
            "Epoch 92/100\n",
            "14616/14616 [==============================] - 38s 3ms/step - loss: 0.4584 - accuracy: 0.7787\n",
            "Epoch 93/100\n",
            "14616/14616 [==============================] - 37s 3ms/step - loss: 0.4578 - accuracy: 0.7787\n",
            "Epoch 94/100\n",
            "14616/14616 [==============================] - 37s 3ms/step - loss: 0.4583 - accuracy: 0.7787\n",
            "Epoch 95/100\n",
            "14616/14616 [==============================] - 37s 3ms/step - loss: 0.4579 - accuracy: 0.7787\n",
            "Epoch 96/100\n",
            "14616/14616 [==============================] - 35s 2ms/step - loss: 0.4576 - accuracy: 0.7788\n",
            "Epoch 97/100\n",
            "14616/14616 [==============================] - 36s 2ms/step - loss: 0.4582 - accuracy: 0.7791\n",
            "Epoch 98/100\n",
            "14616/14616 [==============================] - 37s 3ms/step - loss: 0.4579 - accuracy: 0.7789\n",
            "Epoch 99/100\n",
            "14616/14616 [==============================] - 36s 2ms/step - loss: 0.4578 - accuracy: 0.7791\n",
            "Epoch 100/100\n",
            "14616/14616 [==============================] - 38s 3ms/step - loss: 0.4578 - accuracy: 0.7791\n"
          ]
        },
        {
          "output_type": "execute_result",
          "data": {
            "text/plain": [
              "<keras.callbacks.History at 0x7f42d01684c0>"
            ]
          },
          "metadata": {},
          "execution_count": 35
        }
      ]
    },
    {
      "cell_type": "code",
      "source": [
        "model.summary()\n",
        "score = model.evaluate(X_test, y_test, verbose=0)\n",
        "print('Model Accuracy = ',score[1])"
      ],
      "metadata": {
        "id": "92b2QyQNf-4W",
        "outputId": "468a6f2b-11f7-430a-e6ec-e916c609dbc8",
        "colab": {
          "base_uri": "https://localhost:8080/"
        }
      },
      "execution_count": 36,
      "outputs": [
        {
          "output_type": "stream",
          "name": "stdout",
          "text": [
            "Model: \"sequential_4\"\n",
            "_________________________________________________________________\n",
            " Layer (type)                Output Shape              Param #   \n",
            "=================================================================\n",
            " dense_16 (Dense)            (None, 50)                1500      \n",
            "                                                                 \n",
            " dense_17 (Dense)            (None, 50)                2550      \n",
            "                                                                 \n",
            " dense_18 (Dense)            (None, 50)                2550      \n",
            "                                                                 \n",
            " dense_19 (Dense)            (None, 50)                2550      \n",
            "                                                                 \n",
            " dense_20 (Dense)            (None, 1)                 51        \n",
            "                                                                 \n",
            "=================================================================\n",
            "Total params: 9,201\n",
            "Trainable params: 9,201\n",
            "Non-trainable params: 0\n",
            "_________________________________________________________________\n",
            "Model Accuracy =  0.7579689621925354\n"
          ]
        }
      ]
    }
  ]
}