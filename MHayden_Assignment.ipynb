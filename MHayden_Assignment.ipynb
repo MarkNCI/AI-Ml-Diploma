{
  "nbformat": 4,
  "nbformat_minor": 0,
  "metadata": {
    "colab": {
      "provenance": [],
      "authorship_tag": "ABX9TyMcs6IsJE3Wva9QOpU4z8Ek",
      "include_colab_link": true
    },
    "kernelspec": {
      "name": "python3",
      "display_name": "Python 3"
    },
    "language_info": {
      "name": "python"
    }
  },
  "cells": [
    {
      "cell_type": "markdown",
      "metadata": {
        "id": "view-in-github",
        "colab_type": "text"
      },
      "source": [
        "<a href=\"https://colab.research.google.com/github/MarkNCI/AI-Ml-Diploma/blob/main/MHayden_Assignment.ipynb\" target=\"_parent\"><img src=\"https://colab.research.google.com/assets/colab-badge.svg\" alt=\"Open In Colab\"/></a>"
      ]
    },
    {
      "cell_type": "markdown",
      "source": [
        "# Assignment Description\n",
        "I am using the Personal Key Indicators of Heart Disease dataset from [Kaggle](https://www.kaggle.com/datasets/kamilpytlak/personal-key-indicators-of-heart-disease), which is an annual telephone survey conducted by the United States Center for Disease Control in 2020 with over 400,000 participents.\n",
        "\n",
        "## Column Descriptions\n",
        "\n",
        "```\n",
        "HeartDisease: Respondents that have ever reported having coronary heart disease (CHD) or myocardial infarction (MI).\n",
        "BMI: Body Mass Index (BMI).\n",
        "Smoking: Have you smoked at least 100 cigarettes in your entire life?\n",
        "AlcoholDrinking: Heavy drinkers (adult men having more than 14 drinks per week and adult women having more than 7 drinks per week\n",
        "Stroke: (Ever told) (you had) a stroke?\n",
        "PhysicalHealth: Now thinking about your physical health, which includes physical illness and injury, for how many days during the past 30 days was your physical health not good? (0-30 days).\n",
        "MentalHealth: Thinking about your mental health, for how many days during the past 30 days was your mental health not good? (0-30 days).\n",
        "DiffWalking: Do you have serious difficulty walking or climbing stairs?\n",
        "Sex: Are you male or female?\n",
        "AgeCategory: Fourteen-level age category. (then calculated the mean)\n",
        "Race: Imputed race/ethnicity value.\n",
        "Diabetic: (Ever told) (you had) diabetes?\n",
        "PhysicalActivity: Adults who reported doing physical activity or exercise during the past 30 days other than their regular job.\n",
        "GenHealth: Would you say that in general your health is...\n",
        "SleepTime: On average, how many hours of sleep do you get in a 24-hour period?\n",
        "Asthma: (Ever told) (you had) asthma?\n",
        "KidneyDisease: Not including kidney stones, bladder infection or incontinence, were you ever told you had kidney disease?\n",
        "SkinCancer: (Ever told) (you had) skin cancer?\n",
        "\n",
        "```\n",
        "\n"
      ],
      "metadata": {
        "id": "CpI2lHSQztX8"
      }
    },
    {
      "cell_type": "code",
      "source": [
        "# Load Libraries\n",
        "from google.colab import files\n",
        "import pandas as pd\n",
        "import numpy as np\n",
        "import seaborn as sns\n",
        "import matplotlib.pyplot as plt\n",
        "\n",
        "## Upload Cancer Patients dataset (Goodle Colab) ##\n",
        "uploaded = files.upload()"
      ],
      "metadata": {
        "id": "BeztuwsCzwU2",
        "colab": {
          "base_uri": "https://localhost:8080/",
          "height": 73
        },
        "outputId": "3f71cf99-fff1-481e-9125-2a88cad7b335"
      },
      "execution_count": 1,
      "outputs": [
        {
          "output_type": "display_data",
          "data": {
            "text/plain": [
              "<IPython.core.display.HTML object>"
            ],
            "text/html": [
              "\n",
              "     <input type=\"file\" id=\"files-58988540-1f37-4dc3-9e44-9ba700a21690\" name=\"files[]\" multiple disabled\n",
              "        style=\"border:none\" />\n",
              "     <output id=\"result-58988540-1f37-4dc3-9e44-9ba700a21690\">\n",
              "      Upload widget is only available when the cell has been executed in the\n",
              "      current browser session. Please rerun this cell to enable.\n",
              "      </output>\n",
              "      <script>// Copyright 2017 Google LLC\n",
              "//\n",
              "// Licensed under the Apache License, Version 2.0 (the \"License\");\n",
              "// you may not use this file except in compliance with the License.\n",
              "// You may obtain a copy of the License at\n",
              "//\n",
              "//      http://www.apache.org/licenses/LICENSE-2.0\n",
              "//\n",
              "// Unless required by applicable law or agreed to in writing, software\n",
              "// distributed under the License is distributed on an \"AS IS\" BASIS,\n",
              "// WITHOUT WARRANTIES OR CONDITIONS OF ANY KIND, either express or implied.\n",
              "// See the License for the specific language governing permissions and\n",
              "// limitations under the License.\n",
              "\n",
              "/**\n",
              " * @fileoverview Helpers for google.colab Python module.\n",
              " */\n",
              "(function(scope) {\n",
              "function span(text, styleAttributes = {}) {\n",
              "  const element = document.createElement('span');\n",
              "  element.textContent = text;\n",
              "  for (const key of Object.keys(styleAttributes)) {\n",
              "    element.style[key] = styleAttributes[key];\n",
              "  }\n",
              "  return element;\n",
              "}\n",
              "\n",
              "// Max number of bytes which will be uploaded at a time.\n",
              "const MAX_PAYLOAD_SIZE = 100 * 1024;\n",
              "\n",
              "function _uploadFiles(inputId, outputId) {\n",
              "  const steps = uploadFilesStep(inputId, outputId);\n",
              "  const outputElement = document.getElementById(outputId);\n",
              "  // Cache steps on the outputElement to make it available for the next call\n",
              "  // to uploadFilesContinue from Python.\n",
              "  outputElement.steps = steps;\n",
              "\n",
              "  return _uploadFilesContinue(outputId);\n",
              "}\n",
              "\n",
              "// This is roughly an async generator (not supported in the browser yet),\n",
              "// where there are multiple asynchronous steps and the Python side is going\n",
              "// to poll for completion of each step.\n",
              "// This uses a Promise to block the python side on completion of each step,\n",
              "// then passes the result of the previous step as the input to the next step.\n",
              "function _uploadFilesContinue(outputId) {\n",
              "  const outputElement = document.getElementById(outputId);\n",
              "  const steps = outputElement.steps;\n",
              "\n",
              "  const next = steps.next(outputElement.lastPromiseValue);\n",
              "  return Promise.resolve(next.value.promise).then((value) => {\n",
              "    // Cache the last promise value to make it available to the next\n",
              "    // step of the generator.\n",
              "    outputElement.lastPromiseValue = value;\n",
              "    return next.value.response;\n",
              "  });\n",
              "}\n",
              "\n",
              "/**\n",
              " * Generator function which is called between each async step of the upload\n",
              " * process.\n",
              " * @param {string} inputId Element ID of the input file picker element.\n",
              " * @param {string} outputId Element ID of the output display.\n",
              " * @return {!Iterable<!Object>} Iterable of next steps.\n",
              " */\n",
              "function* uploadFilesStep(inputId, outputId) {\n",
              "  const inputElement = document.getElementById(inputId);\n",
              "  inputElement.disabled = false;\n",
              "\n",
              "  const outputElement = document.getElementById(outputId);\n",
              "  outputElement.innerHTML = '';\n",
              "\n",
              "  const pickedPromise = new Promise((resolve) => {\n",
              "    inputElement.addEventListener('change', (e) => {\n",
              "      resolve(e.target.files);\n",
              "    });\n",
              "  });\n",
              "\n",
              "  const cancel = document.createElement('button');\n",
              "  inputElement.parentElement.appendChild(cancel);\n",
              "  cancel.textContent = 'Cancel upload';\n",
              "  const cancelPromise = new Promise((resolve) => {\n",
              "    cancel.onclick = () => {\n",
              "      resolve(null);\n",
              "    };\n",
              "  });\n",
              "\n",
              "  // Wait for the user to pick the files.\n",
              "  const files = yield {\n",
              "    promise: Promise.race([pickedPromise, cancelPromise]),\n",
              "    response: {\n",
              "      action: 'starting',\n",
              "    }\n",
              "  };\n",
              "\n",
              "  cancel.remove();\n",
              "\n",
              "  // Disable the input element since further picks are not allowed.\n",
              "  inputElement.disabled = true;\n",
              "\n",
              "  if (!files) {\n",
              "    return {\n",
              "      response: {\n",
              "        action: 'complete',\n",
              "      }\n",
              "    };\n",
              "  }\n",
              "\n",
              "  for (const file of files) {\n",
              "    const li = document.createElement('li');\n",
              "    li.append(span(file.name, {fontWeight: 'bold'}));\n",
              "    li.append(span(\n",
              "        `(${file.type || 'n/a'}) - ${file.size} bytes, ` +\n",
              "        `last modified: ${\n",
              "            file.lastModifiedDate ? file.lastModifiedDate.toLocaleDateString() :\n",
              "                                    'n/a'} - `));\n",
              "    const percent = span('0% done');\n",
              "    li.appendChild(percent);\n",
              "\n",
              "    outputElement.appendChild(li);\n",
              "\n",
              "    const fileDataPromise = new Promise((resolve) => {\n",
              "      const reader = new FileReader();\n",
              "      reader.onload = (e) => {\n",
              "        resolve(e.target.result);\n",
              "      };\n",
              "      reader.readAsArrayBuffer(file);\n",
              "    });\n",
              "    // Wait for the data to be ready.\n",
              "    let fileData = yield {\n",
              "      promise: fileDataPromise,\n",
              "      response: {\n",
              "        action: 'continue',\n",
              "      }\n",
              "    };\n",
              "\n",
              "    // Use a chunked sending to avoid message size limits. See b/62115660.\n",
              "    let position = 0;\n",
              "    do {\n",
              "      const length = Math.min(fileData.byteLength - position, MAX_PAYLOAD_SIZE);\n",
              "      const chunk = new Uint8Array(fileData, position, length);\n",
              "      position += length;\n",
              "\n",
              "      const base64 = btoa(String.fromCharCode.apply(null, chunk));\n",
              "      yield {\n",
              "        response: {\n",
              "          action: 'append',\n",
              "          file: file.name,\n",
              "          data: base64,\n",
              "        },\n",
              "      };\n",
              "\n",
              "      let percentDone = fileData.byteLength === 0 ?\n",
              "          100 :\n",
              "          Math.round((position / fileData.byteLength) * 100);\n",
              "      percent.textContent = `${percentDone}% done`;\n",
              "\n",
              "    } while (position < fileData.byteLength);\n",
              "  }\n",
              "\n",
              "  // All done.\n",
              "  yield {\n",
              "    response: {\n",
              "      action: 'complete',\n",
              "    }\n",
              "  };\n",
              "}\n",
              "\n",
              "scope.google = scope.google || {};\n",
              "scope.google.colab = scope.google.colab || {};\n",
              "scope.google.colab._files = {\n",
              "  _uploadFiles,\n",
              "  _uploadFilesContinue,\n",
              "};\n",
              "})(self);\n",
              "</script> "
            ]
          },
          "metadata": {}
        },
        {
          "output_type": "stream",
          "name": "stdout",
          "text": [
            "Saving heart_2020_cleaned.csv to heart_2020_cleaned (2).csv\n"
          ]
        }
      ]
    },
    {
      "cell_type": "code",
      "source": [
        "# Load dataset\n",
        "df = pd.read_csv('/content/heart_2020_cleaned.csv')\n",
        "df.info()"
      ],
      "metadata": {
        "id": "Q5xh75fb2xnv"
      },
      "execution_count": null,
      "outputs": []
    },
    {
      "cell_type": "markdown",
      "source": [
        "# Dataset Details"
      ],
      "metadata": {
        "id": "eI6HJFRQX2ur"
      }
    },
    {
      "cell_type": "code",
      "source": [
        "print(df.columns,'\\n')\n",
        "df.head()"
      ],
      "metadata": {
        "id": "Il5FCTRKkCoz"
      },
      "execution_count": null,
      "outputs": []
    },
    {
      "cell_type": "code",
      "source": [
        "# Count nulls\n",
        "df.isna().sum()"
      ],
      "metadata": {
        "id": "KUHjpf31dBhk"
      },
      "execution_count": null,
      "outputs": []
    },
    {
      "cell_type": "code",
      "source": [
        "# Categorical columns\n",
        "categorical = ['HeartDisease', 'Smoking', 'AlcoholDrinking', 'Stroke', 'DiffWalking', 'Sex', 'Race', \n",
        "               'Diabetic', 'PhysicalActivity', 'GenHealth', 'Asthma', 'KidneyDisease', 'SkinCancer']\n",
        "\n",
        "for cat in categorical:\n",
        "  print(cat)\n",
        "  print(np.unique(df[cat].values))"
      ],
      "metadata": {
        "id": "TIB7NuSfeoj0"
      },
      "execution_count": null,
      "outputs": []
    },
    {
      "cell_type": "code",
      "source": [
        "# Stats per Categorical column\n",
        "colors = sns.color_palette('pastel')[0:5]\n",
        "plt.pie(df['HeartDisease'].value_counts(),labels = df['HeartDisease'].unique(), colors = colors, autopct='%.0f%%')\n",
        "plt.title('HeartDisease')\n",
        "plt.show()\n",
        "\n",
        "colors = sns.color_palette('pastel')[0:5]\n",
        "plt.pie(df['Smoking'].value_counts(),labels = df['Smoking'].unique(), colors = colors, autopct='%.0f%%')\n",
        "plt.title('Smoking')\n",
        "plt.show()\n",
        "\n",
        "colors = sns.color_palette('pastel')[0:5]\n",
        "plt.pie(df['AlcoholDrinking'].value_counts(),labels = df['AlcoholDrinking'].unique(), colors = colors, autopct='%.0f%%')\n",
        "plt.title('AlcoholDrinking')\n",
        "plt.show()\n",
        "\n",
        "colors = sns.color_palette('pastel')[0:5]\n",
        "plt.pie(df['Stroke'].value_counts(),labels = df['Stroke'].unique(), colors = colors, autopct='%.0f%%')\n",
        "plt.title('Stroke')\n",
        "plt.show()\n",
        "\n",
        "colors = sns.color_palette('pastel')[0:5]\n",
        "plt.pie(df['Sex'].value_counts(),labels = df['Sex'].unique(), colors = colors, autopct='%.0f%%')\n",
        "plt.title('Sex')\n",
        "plt.show()\n",
        "\n",
        "colors = sns.color_palette('pastel')[0:5]\n",
        "plt.pie(df['DiffWalking'].value_counts(),labels = df['DiffWalking'].unique(), colors = colors, autopct='%.0f%%')\n",
        "plt.title('DiffWalking')\n",
        "plt.show()\n",
        "\n",
        "colors = sns.color_palette('pastel')[0:5]\n",
        "plt.pie(df['Race'].value_counts(),labels = df['Race'].unique(), colors = colors, autopct='%.0f%%')\n",
        "plt.title('Race')\n",
        "plt.show()\n",
        "\n",
        "colors = sns.color_palette('pastel')[0:5]\n",
        "plt.pie(df['Diabetic'].value_counts(),labels = df['Diabetic'].unique(), colors = colors, autopct='%.0f%%')\n",
        "plt.title('Diabetic')\n",
        "plt.show()\n",
        "\n",
        "colors = sns.color_palette('pastel')[0:5]\n",
        "plt.pie(df['PhysicalActivity'].value_counts(),labels = df['PhysicalActivity'].unique(), colors = colors, autopct='%.0f%%')\n",
        "plt.title('PhysicalActivity')\n",
        "plt.show()\n",
        "\n",
        "colors = sns.color_palette('pastel')[0:5]\n",
        "plt.pie(df['GenHealth'].value_counts(),labels = df['GenHealth'].unique(), colors = colors, autopct='%.0f%%')\n",
        "plt.title('GenHealth')\n",
        "plt.show()\n",
        "\n",
        "colors = sns.color_palette('pastel')[0:5]\n",
        "plt.pie(df['Asthma'].value_counts(),labels = df['Asthma'].unique(), colors = colors, autopct='%.0f%%')\n",
        "plt.title('Asthma')\n",
        "plt.show()\n",
        "\n",
        "colors = sns.color_palette('pastel')[0:5]\n",
        "plt.pie(df['KidneyDisease'].value_counts(),labels = df['KidneyDisease'].unique(), colors = colors, autopct='%.0f%%')\n",
        "plt.title('KidneyDisease')\n",
        "plt.show()\n",
        "\n",
        "colors = sns.color_palette('pastel')[0:5]\n",
        "plt.pie(df['SkinCancer'].value_counts(),labels = df['SkinCancer'].unique(), colors = colors, autopct='%.0f%%')\n",
        "plt.title('SkinCancer')\n",
        "plt.show()"
      ],
      "metadata": {
        "id": "hQMQ4B9zy2p5"
      },
      "execution_count": null,
      "outputs": []
    },
    {
      "cell_type": "markdown",
      "source": [
        "# Feature Extraction"
      ],
      "metadata": {
        "id": "cyDhXKRNYEWx"
      }
    },
    {
      "cell_type": "code",
      "source": [
        "# Converting ages into mean\n",
        "print(df['AgeCategory'].unique())\n",
        "df['Age'] = df['AgeCategory'].apply(lambda x: '57' if x == '55-59' else '80' if x == '80 or older' \n",
        "                                    else '67' if x == '65-69' else '77' if x == '75-79' else '42' if x == '40-44'\n",
        "                                    else '72' if x == '70-74' else '62' if x == '60-64' else '52' if x == '50-54' \n",
        "                                    else '47' if x == '45-49' else '20' if x == '18-24' else '37' if x == '35-39' \n",
        "                                    else '32' if x == '30-34' else '27' if x == '25-29' else x)\n",
        "print(df['Age'].unique())"
      ],
      "metadata": {
        "id": "60kk_DS71tdB"
      },
      "execution_count": null,
      "outputs": []
    },
    {
      "cell_type": "code",
      "source": [
        "# Numerical columns: Normalise between 0 and 1\n",
        "numerical = ['BMI', 'PhysicalHealth', 'MentalHealth', 'SleepTime']\n",
        "for num in numerical:\n",
        "  df[num] = df[num]/df[num].max()\n",
        "\n",
        "df[numerical]"
      ],
      "metadata": {
        "id": "2q7iPNxyAjbm"
      },
      "execution_count": null,
      "outputs": []
    },
    {
      "cell_type": "code",
      "source": [
        "# One Hot Encoding "
      ],
      "metadata": {
        "id": "URMdZL93Gt7D"
      },
      "execution_count": null,
      "outputs": []
    },
    {
      "cell_type": "markdown",
      "source": [
        "\n",
        "\n",
        "```\n",
        "TODO:\n",
        "1) Feature selection: What do I use?\n",
        "2) Features with multiple values --> 1 hot encoding?\n",
        "3) Stats for numerical columns\n",
        "```\n",
        "\n"
      ],
      "metadata": {
        "id": "jm2vB691_6Sa"
      }
    }
  ]
}