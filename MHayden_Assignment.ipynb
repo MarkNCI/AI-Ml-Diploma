{
  "nbformat": 4,
  "nbformat_minor": 0,
  "metadata": {
    "colab": {
      "provenance": [],
      "authorship_tag": "ABX9TyM/bQWG7hYQ5AfueXJKRNK0",
      "include_colab_link": true
    },
    "kernelspec": {
      "name": "python3",
      "display_name": "Python 3"
    },
    "language_info": {
      "name": "python"
    }
  },
  "cells": [
    {
      "cell_type": "markdown",
      "metadata": {
        "id": "view-in-github",
        "colab_type": "text"
      },
      "source": [
        "<a href=\"https://colab.research.google.com/github/MarkNCI/AI-Ml-Diploma/blob/main/MHayden_Assignment.ipynb\" target=\"_parent\"><img src=\"https://colab.research.google.com/assets/colab-badge.svg\" alt=\"Open In Colab\"/></a>"
      ]
    },
    {
      "cell_type": "markdown",
      "source": [
        "# Assignment Description\n",
        "I am using the Personal Key Indicators of Heart Disease dataset from [Kaggle](https://www.kaggle.com/datasets/kamilpytlak/personal-key-indicators-of-heart-disease), which is an annual telephone survey conducted by the United States Center for Disease Control in 2020 with over 400,000 participants.\n",
        "\n",
        "## Column Descriptions\n",
        "\n",
        "\n",
        "***HeartDisease***: Respondents that have ever reported having coronary heart disease (CHD) or myocardial infarction (MI).\n",
        "\n",
        "***BMI***: Body Mass Index (BMI).\n",
        "\n",
        "***Smoking***: Have you smoked at least 100 cigarettes in your entire life?\n",
        "\n",
        "***AlcoholDrinking***: Heavy drinkers (adult men having more than 14 drinks per week and adult women having more than 7 drinks per week\n",
        "\n",
        "***Stroke***: (Ever told) (you had) a stroke?\n",
        "\n",
        "***PhysicalHealth***: Now thinking about your physical health, which includes physical illness and injury, for how many days during the past 30 days was your physical health not good? (0-30 days).\n",
        "\n",
        "***MentalHealth***: Thinking about your mental health, for how many days during the past 30 days was your mental health not good? (0-30 days).\n",
        "\n",
        "***DiffWalking***: Do you have serious difficulty walking or climbing stairs?\n",
        "\n",
        "***Sex***: Are you male or female?\n",
        "\n",
        "***AgeCategory***: Fourteen-level age category. (then calculated the mean)\n",
        "\n",
        "***Race***: Imputed race/ethnicity value.\n",
        "\n",
        "***Diabetic***: (Ever told) (you had) diabetes?\n",
        "\n",
        "***PhysicalActivity***: Adults who reported doing physical activity or exercise during the past 30 days other than their regular job.\n",
        "\n",
        "***GenHealth***: Would you say that in general your health is...\n",
        "\n",
        "***SleepTime***: On average, how many hours of sleep do you get in a 24-hour period?\n",
        "\n",
        "***Asthma***: (Ever told) (you had) asthma?\n",
        "\n",
        "***KidneyDisease***: Not including kidney stones, bladder infection or incontinence, were you ever told you had kidney disease?\n",
        "\n",
        "***SkinCancer***: (Ever told) (you had) skin cancer?"
      ],
      "metadata": {
        "id": "CpI2lHSQztX8"
      }
    },
    {
      "cell_type": "code",
      "source": [
        "# Load Libraries\n",
        "from google.colab import files\n",
        "import pandas as pd\n",
        "import numpy as np\n",
        "import seaborn as sns\n",
        "import matplotlib.pyplot as plt\n",
        "from sklearn import preprocessing\n",
        "from sklearn.model_selection import train_test_split\n",
        "from sklearn.svm import SVC\n",
        "from sklearn.naive_bayes import GaussianNB\n",
        "from sklearn.tree import DecisionTreeClassifier\n",
        "from sklearn.ensemble import RandomForestClassifier\n",
        "from sklearn.neighbors import KNeighborsClassifier\n",
        "from sklearn.neural_network import MLPClassifier\n",
        "from sklearn.linear_model import LinearRegression\n",
        "from sklearn.cluster import KMeans\n",
        "from sklearn.model_selection import train_test_split\n",
        "from sklearn.metrics import classification_report, confusion_matrix\n",
        "from sklearn.svm import SVC\n",
        "from keras.models import Sequential\n",
        "from keras.layers import Dense\n",
        "\n",
        "## Upload Cancer Patients dataset (Google Colab) ##\n",
        "uploaded = files.upload()"
      ],
      "metadata": {
        "id": "BeztuwsCzwU2"
      },
      "execution_count": null,
      "outputs": []
    },
    {
      "cell_type": "code",
      "source": [
        "# Load dataset\n",
        "df = pd.read_csv('/content/heart_2020_cleaned.csv')\n",
        "df.info()"
      ],
      "metadata": {
        "id": "Q5xh75fb2xnv"
      },
      "execution_count": null,
      "outputs": []
    },
    {
      "cell_type": "markdown",
      "source": [
        "# Dataset Details"
      ],
      "metadata": {
        "id": "eI6HJFRQX2ur"
      }
    },
    {
      "cell_type": "code",
      "source": [
        "# Dataset details\n",
        "print(df.columns,'\\n')\n",
        "df.head()"
      ],
      "metadata": {
        "id": "Il5FCTRKkCoz"
      },
      "execution_count": null,
      "outputs": []
    },
    {
      "cell_type": "code",
      "source": [
        "# Count of Label Values\n",
        "print(df['HeartDisease'].value_counts()['No'])\n",
        "print(df['HeartDisease'].value_counts()['Yes'])"
      ],
      "metadata": {
        "id": "Bv-B75wc5Bjf"
      },
      "execution_count": null,
      "outputs": []
    },
    {
      "cell_type": "code",
      "source": [
        "# Count nulls\n",
        "df.isna().sum()"
      ],
      "metadata": {
        "id": "KUHjpf31dBhk"
      },
      "execution_count": null,
      "outputs": []
    },
    {
      "cell_type": "code",
      "source": [
        "# Categorical columns\n",
        "categorical = ['HeartDisease', 'Smoking', 'AlcoholDrinking', 'Stroke', 'DiffWalking', 'Sex', 'Race', \n",
        "               'Diabetic', 'PhysicalActivity', 'GenHealth', 'Asthma', 'KidneyDisease', 'SkinCancer']\n",
        "\n",
        "for cat in categorical:\n",
        "  print(cat)\n",
        "  print(np.unique(df[cat].values))"
      ],
      "metadata": {
        "id": "TIB7NuSfeoj0"
      },
      "execution_count": null,
      "outputs": []
    },
    {
      "cell_type": "markdown",
      "source": [
        "# Stats per Categorical columns"
      ],
      "metadata": {
        "id": "cjUz8BTbagmu"
      }
    },
    {
      "cell_type": "code",
      "source": [
        "colors = sns.color_palette('pastel')[0:5]\n",
        "plt.pie(df['HeartDisease'].value_counts(),labels = df['HeartDisease'].unique(), colors = colors, autopct='%.0f%%')\n",
        "plt.title('HeartDisease')\n",
        "plt.show()\n",
        "\n",
        "colors = sns.color_palette('pastel')[0:5]\n",
        "plt.pie(df['Smoking'].value_counts(),labels = df['Smoking'].unique(), colors = colors, autopct='%.0f%%')\n",
        "plt.title('Smoking')\n",
        "plt.show()\n",
        "\n",
        "colors = sns.color_palette('pastel')[0:5]\n",
        "plt.pie(df['AlcoholDrinking'].value_counts(),labels = df['AlcoholDrinking'].unique(), colors = colors, autopct='%.0f%%')\n",
        "plt.title('AlcoholDrinking')\n",
        "plt.show()\n",
        "\n",
        "colors = sns.color_palette('pastel')[0:5]\n",
        "plt.pie(df['Stroke'].value_counts(),labels = df['Stroke'].unique(), colors = colors, autopct='%.0f%%')\n",
        "plt.title('Stroke')\n",
        "plt.show()\n",
        "\n",
        "colors = sns.color_palette('pastel')[0:5]\n",
        "plt.pie(df['Sex'].value_counts(),labels = df['Sex'].unique(), colors = colors, autopct='%.0f%%')\n",
        "plt.title('Sex')\n",
        "plt.show()\n",
        "\n",
        "colors = sns.color_palette('pastel')[0:5]\n",
        "plt.pie(df['DiffWalking'].value_counts(),labels = df['DiffWalking'].unique(), colors = colors, autopct='%.0f%%')\n",
        "plt.title('DiffWalking')\n",
        "plt.show()\n",
        "\n",
        "colors = sns.color_palette('pastel')[0:5]\n",
        "plt.pie(df['Race'].value_counts(),labels = df['Race'].unique(), colors = colors, autopct='%.0f%%')\n",
        "plt.title('Race')\n",
        "plt.show()\n",
        "\n",
        "colors = sns.color_palette('pastel')[0:5]\n",
        "plt.pie(df['Diabetic'].value_counts(),labels = df['Diabetic'].unique(), colors = colors, autopct='%.0f%%')\n",
        "plt.title('Diabetic')\n",
        "plt.show()\n",
        "\n",
        "colors = sns.color_palette('pastel')[0:5]\n",
        "plt.pie(df['PhysicalActivity'].value_counts(),labels = df['PhysicalActivity'].unique(), colors = colors, autopct='%.0f%%')\n",
        "plt.title('PhysicalActivity')\n",
        "plt.show()\n",
        "\n",
        "colors = sns.color_palette('pastel')[0:5]\n",
        "plt.pie(df['GenHealth'].value_counts(),labels = df['GenHealth'].unique(), colors = colors, autopct='%.0f%%')\n",
        "plt.title('GenHealth')\n",
        "plt.show()\n",
        "\n",
        "colors = sns.color_palette('pastel')[0:5]\n",
        "plt.pie(df['Asthma'].value_counts(),labels = df['Asthma'].unique(), colors = colors, autopct='%.0f%%')\n",
        "plt.title('Asthma')\n",
        "plt.show()\n",
        "\n",
        "colors = sns.color_palette('pastel')[0:5]\n",
        "plt.pie(df['KidneyDisease'].value_counts(),labels = df['KidneyDisease'].unique(), colors = colors, autopct='%.0f%%')\n",
        "plt.title('KidneyDisease')\n",
        "plt.show()\n",
        "\n",
        "colors = sns.color_palette('pastel')[0:5]\n",
        "plt.pie(df['SkinCancer'].value_counts(),labels = df['SkinCancer'].unique(), colors = colors, autopct='%.0f%%')\n",
        "plt.title('SkinCancer')\n",
        "plt.show()"
      ],
      "metadata": {
        "id": "hQMQ4B9zy2p5"
      },
      "execution_count": null,
      "outputs": []
    },
    {
      "cell_type": "markdown",
      "source": [
        "# Stats per Numerical columns"
      ],
      "metadata": {
        "id": "CL4GjiizamLE"
      }
    },
    {
      "cell_type": "code",
      "source": [
        "BMI = sns.histplot(data=df['BMI'])\n",
        "BMI"
      ],
      "metadata": {
        "id": "PllLlZBeXJ6o"
      },
      "execution_count": null,
      "outputs": []
    },
    {
      "cell_type": "code",
      "source": [
        "PH = sns.histplot(data=df['PhysicalHealth'])\n",
        "PH"
      ],
      "metadata": {
        "id": "xbHh9n54ZRLz"
      },
      "execution_count": null,
      "outputs": []
    },
    {
      "cell_type": "code",
      "source": [
        "MH = sns.histplot(data=df['MentalHealth'])\n",
        "MH"
      ],
      "metadata": {
        "id": "8reuPfnvZh5l"
      },
      "execution_count": null,
      "outputs": []
    },
    {
      "cell_type": "code",
      "source": [
        "colors = sns.color_palette('pastel')[0:5]\n",
        "plt.pie(df['AgeCategory'].value_counts(),labels = df['AgeCategory'].unique(), colors = colors, autopct='%.0f%%')\n",
        "plt.title('AgeCategory')\n",
        "plt.show()"
      ],
      "metadata": {
        "id": "R8eMGQ96ZWDc"
      },
      "execution_count": null,
      "outputs": []
    },
    {
      "cell_type": "code",
      "source": [
        "ST = sns.histplot(data=df['SleepTime'])\n",
        "ST"
      ],
      "metadata": {
        "id": "KqSQW3z6Z4C4"
      },
      "execution_count": null,
      "outputs": []
    },
    {
      "cell_type": "markdown",
      "source": [
        "# Feature Extraction"
      ],
      "metadata": {
        "id": "cyDhXKRNYEWx"
      }
    },
    {
      "cell_type": "code",
      "source": [
        "# Converting ages into mean\n",
        "print(df['AgeCategory'].unique())\n",
        "df['Age'] = df['AgeCategory'].apply(lambda x: '57' if x == '55-59' else '80' if x == '80 or older' \n",
        "                                    else '67' if x == '65-69' else '77' if x == '75-79' else '42' if x == '40-44'\n",
        "                                    else '72' if x == '70-74' else '62' if x == '60-64' else '52' if x == '50-54' \n",
        "                                    else '47' if x == '45-49' else '20' if x == '18-24' else '37' if x == '35-39' \n",
        "                                    else '32' if x == '30-34' else '27' if x == '25-29' else x)\n",
        "print(df['Age'].unique())\n",
        "df = df.drop(columns=['AgeCategory'])\n",
        "df.columns"
      ],
      "metadata": {
        "id": "60kk_DS71tdB"
      },
      "execution_count": null,
      "outputs": []
    },
    {
      "cell_type": "code",
      "source": [
        "# Numerical columns: Normalise between 0 and 1\n",
        "numerical = ['BMI', 'PhysicalHealth', 'MentalHealth', 'SleepTime']\n",
        "for num in numerical:\n",
        "  df[num] = df[num]/df[num].max()\n",
        "\n",
        "df[numerical]"
      ],
      "metadata": {
        "id": "2q7iPNxyAjbm"
      },
      "execution_count": null,
      "outputs": []
    },
    {
      "cell_type": "code",
      "source": [
        "# Count unique values in categorical columns\n",
        "print(df[['HeartDisease', 'Smoking', 'AlcoholDrinking', 'Stroke', 'DiffWalking', 'Sex', 'Race', \n",
        " 'Diabetic', 'PhysicalActivity', 'GenHealth', 'Asthma', 'KidneyDisease', 'SkinCancer']].nunique()>2)"
      ],
      "metadata": {
        "id": "e_fXDUIGR5mA"
      },
      "execution_count": null,
      "outputs": []
    },
    {
      "cell_type": "code",
      "source": [
        "# For columns with 2 unique values, sklearn labelencoder\n",
        "encoder = preprocessing.LabelEncoder()\n",
        "for col in df[['HeartDisease', 'Smoking', 'AlcoholDrinking', 'Stroke', 'DiffWalking', 'Sex', 'PhysicalActivity', 'Asthma', 'KidneyDisease', 'SkinCancer']]:\n",
        "  df[col] = encoder.fit_transform(df[col])\n",
        "\n",
        "# One Hot Encoding for columns with more than 2 unique values\n",
        "df = pd.get_dummies(df, columns=['Race', 'Diabetic', 'GenHealth'], prefix= ['Race', 'Diabetic', 'GenHealth'])\n",
        "df.head()"
      ],
      "metadata": {
        "id": "URMdZL93Gt7D"
      },
      "execution_count": null,
      "outputs": []
    },
    {
      "cell_type": "code",
      "source": [
        "# Count of Label Values\n",
        "print(df['HeartDisease'].value_counts()[0])\n",
        "print(df['HeartDisease'].value_counts()[1])"
      ],
      "metadata": {
        "id": "lFeFOeF753H7"
      },
      "execution_count": null,
      "outputs": []
    },
    {
      "cell_type": "code",
      "source": [
        "# Checking to see if dataset is balanced\n",
        "train_df = df[:int(len(df)*0.8)]\n",
        "test_df = df[int(len(df)*0.8):]\n",
        "print(train_df['HeartDisease'].value_counts())\n",
        "print(test_df['HeartDisease'].value_counts())"
      ],
      "metadata": {
        "id": "BCmjOx6SxstH"
      },
      "execution_count": null,
      "outputs": []
    },
    {
      "cell_type": "code",
      "source": [
        "# As dataset is imbalanced, will oversample to balance out\n",
        "no_heartdisease = train_df[train_df['HeartDisease'] == 0]\n",
        "has_heartdisease = train_df[train_df['HeartDisease'] == 1]\n",
        "\n",
        "has_heartdisease = has_heartdisease.sample(len(no_heartdisease),replace=True)\n",
        "train_df = pd.concat([no_heartdisease, has_heartdisease], axis=0)\n",
        "print(train_df['HeartDisease'].value_counts())\n",
        "\n",
        "# As dataset is imbalanced, will oversample to balance out\n",
        "no_heartdisease = test_df[test_df['HeartDisease'] == 0]\n",
        "has_heartdisease = test_df[test_df['HeartDisease'] == 1]\n",
        "\n",
        "has_heartdisease = has_heartdisease.sample(len(no_heartdisease),replace=True)\n",
        "test_df = pd.concat([no_heartdisease, has_heartdisease], axis=0)\n",
        "print(test_df['HeartDisease'].value_counts())"
      ],
      "metadata": {
        "id": "LowV3jGG7CH9"
      },
      "execution_count": null,
      "outputs": []
    },
    {
      "cell_type": "code",
      "source": [
        "# Concat into single dataframe\n",
        "df = pd.concat([train_df,test_df],axis=0)\n",
        "df['HeartDisease'].value_counts()"
      ],
      "metadata": {
        "id": "87_YkmhDX2_6"
      },
      "execution_count": null,
      "outputs": []
    },
    {
      "cell_type": "code",
      "source": [
        "# Encode as Numpy arrays for Train/Test split\n",
        "X = df[['BMI', 'Smoking', 'AlcoholDrinking', 'Stroke',\n",
        "       'PhysicalHealth', 'MentalHealth', 'DiffWalking', 'Sex', 'Age',\n",
        "       'PhysicalActivity', 'SleepTime', 'Asthma', 'KidneyDisease',\n",
        "       'SkinCancer', 'Race_American Indian/Alaskan Native', 'Race_Asian',\n",
        "       'Race_Black', 'Race_Hispanic', 'Race_Other', 'Race_White',\n",
        "       'Diabetic_No', 'Diabetic_No, borderline diabetes', 'Diabetic_Yes',\n",
        "       'Diabetic_Yes (during pregnancy)', 'GenHealth_Excellent',\n",
        "       'GenHealth_Fair', 'GenHealth_Good', 'GenHealth_Poor',\n",
        "       'GenHealth_Very good']]\n",
        "y = df['HeartDisease']\n",
        "X = np.asarray(X).astype(np.float32)\n",
        "y = np.asarray(y).astype(np.float32)"
      ],
      "metadata": {
        "id": "3d34LLl6Wa_d"
      },
      "execution_count": null,
      "outputs": []
    },
    {
      "cell_type": "code",
      "source": [
        "# Train/Test split\n",
        "X_train, X_test, y_train, y_test = train_test_split(X, y, test_size=0.2, random_state=42)"
      ],
      "metadata": {
        "id": "U-Vy7a3tVIwg"
      },
      "execution_count": null,
      "outputs": []
    },
    {
      "cell_type": "markdown",
      "source": [
        "# ML Models"
      ],
      "metadata": {
        "id": "S4zZOHGYV1Ka"
      }
    },
    {
      "cell_type": "code",
      "source": [
        "# Decision Tree\n",
        "%%time\n",
        "dt = DecisionTreeClassifier().fit(X_train, y_train)\n",
        "score = dt.score(X_test, y_test)\n",
        "predict = dt.predict(X_test)\n",
        "print(str(score))\n",
        "print(\"Total points: %d Correctly labeled points : %d\" %(y_test.shape[0],(y_test == predict).sum()))\n",
        "cm = np.array(confusion_matrix(y_test, predict, labels=[1,0]))\n",
        "confusion = pd.DataFrame(cm, index=['has_heartdisease', 'no_heartdisease'],\n",
        "columns=['predicted_heartdisease','predicted_healthy'])\n",
        "print(confusion)\n",
        "print(classification_report(y_test, predict))"
      ],
      "metadata": {
        "id": "n6KG8EXiLZVq"
      },
      "execution_count": null,
      "outputs": []
    },
    {
      "cell_type": "code",
      "source": [
        "# Random Forest\n",
        "%%time\n",
        "rf = RandomForestClassifier().fit(X_train, y_train)\n",
        "score = rf.score(X_test, y_test)\n",
        "predict = rf.predict(X_test)\n",
        "print(str(score))\n",
        "print(\"Total points: %d Correctly labeled points : %d\" %(y_test.shape[0],(y_test == predict).sum()))\n",
        "cm = np.array(confusion_matrix(y_test, predict, labels=[1,0]))\n",
        "confusion = pd.DataFrame(cm, index=['has_heartdisease', 'no_heartdisease'],\n",
        "columns=['predicted_heartdisease','predicted_healthy'])\n",
        "print(confusion)\n",
        "print(classification_report(y_test, predict))"
      ],
      "metadata": {
        "id": "1kIhSN_zD8mZ"
      },
      "execution_count": null,
      "outputs": []
    },
    {
      "cell_type": "code",
      "source": [
        "# K-Nearset Neighbours\n",
        "%%time\n",
        "knn = KNeighborsClassifier().fit(X_train, y_train)\n",
        "score = knn.score(X_test, y_test)\n",
        "predict = knn.predict(X_test)\n",
        "print(str(score))\n",
        "print(\"Total points: %d Correctly labeled points : %d\" %(y_test.shape[0],(y_test == predict).sum()))\n",
        "cm = np.array(confusion_matrix(y_test, predict, labels=[1,0]))\n",
        "confusion = pd.DataFrame(cm, index=['has_heartdisease', 'no_heartdisease'],\n",
        "columns=['predicted_heartdisease','predicted_healthy'])\n",
        "print(confusion)\n",
        "print(classification_report(y_test, predict))"
      ],
      "metadata": {
        "id": "QFFu40s5L3rY"
      },
      "execution_count": null,
      "outputs": []
    },
    {
      "cell_type": "code",
      "source": [
        "# Naive Bayes\n",
        "%%time\n",
        "nb = GaussianNB().fit(X_train, y_train)\n",
        "score = nb.score(X_test, y_test)\n",
        "print(str(score))\n",
        "predict = nb.predict(X_test)\n",
        "print(\"Total points: %d Correctly labeled points : %d\" %(y_test.shape[0],(y_test == predict).sum()))\n",
        "cm = np.array(confusion_matrix(y_test, predict, labels=[1,0]))\n",
        "confusion = pd.DataFrame(cm, index=['has_heartdisease', 'no_heartdisease'],\n",
        "columns=['predicted_heartdisease','predicted_healthy'])\n",
        "print(confusion)\n",
        "print(classification_report(y_test, predict))"
      ],
      "metadata": {
        "id": "C_TYqcLxL3tN"
      },
      "execution_count": null,
      "outputs": []
    },
    {
      "cell_type": "code",
      "source": [
        "# Multi-Level Perceptron\n",
        "%%time\n",
        "mlp = MLPClassifier(random_state=1, max_iter=300,alpha=1).fit(X_train, y_train)\n",
        "score = mlp.score(X_test, y_test)\n",
        "print(str(score))\n",
        "predict = mlp.predict(X_test)\n",
        "print(\"Total points: %d Correctly labeled points : %d\" %(y_test.shape[0],(y_test == predict).sum()))\n",
        "cm = np.array(confusion_matrix(y_test, predict, labels=[1,0]))\n",
        "confusion = pd.DataFrame(cm, index=['has_heartdisease', 'no_heartdisease'],\n",
        "columns=['predicted_heartdisease','predicted_healthy'])\n",
        "print(confusion)\n",
        "print(classification_report(y_test, predict))"
      ],
      "metadata": {
        "id": "wSXvqA2aFJTe"
      },
      "execution_count": null,
      "outputs": []
    },
    {
      "cell_type": "code",
      "source": [
        "# Linear Regression\n",
        "%%time\n",
        "lr = LinearRegression().fit(X_train, y_train)\n",
        "score = lr.score(X_test, y_test)\n",
        "print(str(score))"
      ],
      "metadata": {
        "id": "Ek9vXuBbGgDu"
      },
      "execution_count": null,
      "outputs": []
    },
    {
      "cell_type": "code",
      "source": [
        "# Neural Network\n",
        "model = Sequential()\n",
        "model.add(Dense(50, input_dim=29, activation='relu'))\n",
        "model.add(Dense(50, activation='relu'))\n",
        "model.add(Dense(50, activation='relu'))\n",
        "model.add(Dense(50, activation='relu'))\n",
        "model.add(Dense(1, activation='sigmoid'))"
      ],
      "metadata": {
        "id": "-ejKHtdAO15J"
      },
      "execution_count": null,
      "outputs": []
    },
    {
      "cell_type": "code",
      "source": [
        "# Run Neural Network\n",
        "model.compile(optimizer='adam',loss='binary_crossentropy',metrics=['accuracy'])\n",
        "model.fit(X_train, y_train, epochs=100, verbose=1)"
      ],
      "metadata": {
        "id": "qRzEQ2Q7RewK"
      },
      "execution_count": null,
      "outputs": []
    },
    {
      "cell_type": "code",
      "source": [
        "# Print Accuracy\n",
        "model.summary()\n",
        "score = model.evaluate(X_test, y_test, verbose=0)\n",
        "print('Model Accuracy = ',score[1])"
      ],
      "metadata": {
        "id": "92b2QyQNf-4W"
      },
      "execution_count": null,
      "outputs": []
    }
  ]
}