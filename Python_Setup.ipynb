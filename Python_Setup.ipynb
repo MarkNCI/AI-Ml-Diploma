{
  "nbformat": 4,
  "nbformat_minor": 0,
  "metadata": {
    "colab": {
      "provenance": [],
      "authorship_tag": "ABX9TyNtEcRj74L6oI4OLBUZGbBs",
      "include_colab_link": true
    },
    "kernelspec": {
      "name": "python3",
      "display_name": "Python 3"
    },
    "language_info": {
      "name": "python"
    }
  },
  "cells": [
    {
      "cell_type": "markdown",
      "metadata": {
        "id": "view-in-github",
        "colab_type": "text"
      },
      "source": [
        "<a href=\"https://colab.research.google.com/github/MarkNCI/AI-Ml-Diploma/blob/main/Python_Setup.ipynb\" target=\"_parent\"><img src=\"https://colab.research.google.com/assets/colab-badge.svg\" alt=\"Open In Colab\"/></a>"
      ]
    },
    {
      "cell_type": "markdown",
      "source": [
        "CTRL + Space for autocomplete"
      ],
      "metadata": {
        "id": "pic8tNhDIha2"
      }
    },
    {
      "cell_type": "code",
      "execution_count": null,
      "metadata": {
        "id": "uBhDyonEsYnw"
      },
      "outputs": [],
      "source": [
        "# !pip install numpy\n",
        "# !pip install pandas\n",
        "# !pip install matplotlib\n",
        "# !pip install scipy\n",
        "# !pip install ipython\n",
        "# !pip install jupyter\n",
        "# !pip install sympy\n",
        "# !pip install nose\n",
        "# !pip install keras tensorflow torch torchvision opencv-python\n",
        "# !pip list"
      ]
    },
    {
      "cell_type": "code",
      "source": [
        "!python --version\n",
        "print('Hello World')"
      ],
      "metadata": {
        "colab": {
          "base_uri": "https://localhost:8080/"
        },
        "id": "okBWN808-QEy",
        "outputId": "6a58decf-78b5-4707-ef67-4a3f88f58a63"
      },
      "execution_count": null,
      "outputs": [
        {
          "output_type": "stream",
          "name": "stdout",
          "text": [
            "Python 3.8.10\n",
            "Hello World\n"
          ]
        }
      ]
    },
    {
      "cell_type": "code",
      "source": [
        "def maths(a,b):\n",
        "  c = a+b\n",
        "  return print('c =',c)\n",
        "\n",
        "a = 5\n",
        "b = 7\n",
        "maths(a,b)"
      ],
      "metadata": {
        "colab": {
          "base_uri": "https://localhost:8080/"
        },
        "id": "YV0utwXV_uQN",
        "outputId": "ebb281b7-28fa-40b4-d10d-2648d8de92ac"
      },
      "execution_count": null,
      "outputs": [
        {
          "output_type": "stream",
          "name": "stdout",
          "text": [
            "c = 12\n"
          ]
        }
      ]
    },
    {
      "cell_type": "code",
      "source": [
        "# List of objects\n",
        "num_list = [1,2,3,4]\n",
        "type(num_list)\n",
        "\n",
        "for number in num_list:\n",
        "  print(number)"
      ],
      "metadata": {
        "colab": {
          "base_uri": "https://localhost:8080/"
        },
        "id": "RmGJNBWCDI0f",
        "outputId": "d4a6153c-e9d5-4044-9823-0a7d83f791c0"
      },
      "execution_count": null,
      "outputs": [
        {
          "output_type": "stream",
          "name": "stdout",
          "text": [
            "[1, 2, 3, 4]\n",
            "1\n",
            "2\n",
            "3\n",
            "4\n"
          ]
        }
      ]
    },
    {
      "cell_type": "code",
      "source": [
        "# Tuple - Immutable list of objects\n",
        "num_tuple = (1,2,3,4)\n",
        "type(num_tuple)\n",
        "\n",
        "for number in num_tuple:\n",
        "  print('Tuple: ',number)"
      ],
      "metadata": {
        "colab": {
          "base_uri": "https://localhost:8080/"
        },
        "id": "Uj4eE45NCLhm",
        "outputId": "f7ec5104-aecb-48df-f8d3-a9b287d96b11"
      },
      "execution_count": null,
      "outputs": [
        {
          "output_type": "stream",
          "name": "stdout",
          "text": [
            "Tuple:  [1]\n",
            "Tuple:  [2]\n",
            "Tuple:  [3]\n",
            "Tuple:  [4]\n"
          ]
        }
      ]
    },
    {
      "cell_type": "code",
      "source": [
        "# Dictionary - Key/Value pairs\n",
        "num_dict = {1: 'Apple', 2: 'Pear', 3: 'Grapes',4:'Banana'}\n",
        "type(num_dict)\n",
        "\n",
        "for key,value in num_dict.items():\n",
        "  print('key:',key)\n",
        "  print('value:',value)"
      ],
      "metadata": {
        "colab": {
          "base_uri": "https://localhost:8080/"
        },
        "id": "hm-zocQREput",
        "outputId": "78f31256-bffd-4652-8c97-1f0584e85a17"
      },
      "execution_count": null,
      "outputs": [
        {
          "output_type": "stream",
          "name": "stdout",
          "text": [
            "key: 1\n",
            "value: Apple\n",
            "key: 2\n",
            "value: Pear\n",
            "key: 3\n",
            "value: Grapes\n",
            "key: 4\n",
            "value: Banana\n"
          ]
        }
      ]
    }
  ]
}