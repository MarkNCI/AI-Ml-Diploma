{
  "cells": [
    {
      "cell_type": "markdown",
      "id": "7e5290c5",
      "metadata": {
        "id": "7e5290c5"
      },
      "source": [
        "# Lecture NLP"
      ]
    },
    {
      "cell_type": "markdown",
      "id": "c75dcb70",
      "metadata": {
        "id": "c75dcb70"
      },
      "source": [
        "Spacy installation \n",
        "https://spacy.io/usage"
      ]
    },
    {
      "cell_type": "code",
      "source": [
        "# !pip install transformers"
      ],
      "metadata": {
        "id": "n0Id1ancv5J5"
      },
      "id": "n0Id1ancv5J5",
      "execution_count": 28,
      "outputs": []
    },
    {
      "cell_type": "code",
      "execution_count": 48,
      "id": "9a10eb2f",
      "metadata": {
        "id": "9a10eb2f"
      },
      "outputs": [],
      "source": [
        "import spacy\n",
        "nlp = spacy.load(\"en_core_web_sm\")"
      ]
    },
    {
      "cell_type": "markdown",
      "id": "0587cd90",
      "metadata": {
        "id": "0587cd90"
      },
      "source": [
        "### Sentence Detection: Sentence detection is the process of locating where sentences start and end in a given text.\n"
      ]
    },
    {
      "cell_type": "markdown",
      "id": "fd1865bc",
      "metadata": {
        "id": "fd1865bc"
      },
      "source": [
        "In the above example, spaCy is correctly able to identify the input’s sentences. With .sents, you get a list of Span objects representing individual sentences. You can also slice the Span objects to produce sections of a sentence. In spaCy, the .sents property is used to extract sentences from the Doc object. Here’s how you would extract the total number of sentences and the sentences themselves for a given input:"
      ]
    },
    {
      "cell_type": "code",
      "execution_count": 49,
      "id": "e8c1932b",
      "metadata": {
        "colab": {
          "base_uri": "https://localhost:8080/"
        },
        "id": "e8c1932b",
        "outputId": "a0129bda-3fa7-4c1b-f537-8f8be7c658ea"
      },
      "outputs": [
        {
          "output_type": "stream",
          "name": "stdout",
          "text": [
            "2\n",
            "Gus Proto is a Python...\n",
            "He is interested in learning...\n"
          ]
        }
      ],
      "source": [
        "about_text = (\n",
        "        \"Gus Proto is a Python developer currently\"\n",
        "         \" working for a London-based Fintech\"\n",
        "         \" company. He is interested in learning\"\n",
        "         \" Natural Language Processing.\"\n",
        "     )\n",
        "about_doc = nlp(about_text)\n",
        "sentences = list(about_doc.sents)\n",
        "print(len(sentences))\n",
        "\n",
        "for sentence in sentences:\n",
        "     print(f\"{sentence[:5]}...\")\n",
        "\n"
      ]
    },
    {
      "cell_type": "markdown",
      "id": "b63d42fa",
      "metadata": {
        "id": "b63d42fa"
      },
      "source": [
        "You can also customize sentence detection behavior by using custom delimiters. Here’s an example where an ellipsis (...) is used as a delimiter, in addition to the full stop, or period (.).\n",
        "For this example, you use the @Language.component(\"set_custom_boundaries\") decorator to define a new function that takes a Doc object as an argument. The job of this function is to identify tokens in Doc that are the beginning of sentences and mark their .is_sent_start attribute to True. Once done, the function must return the Doc object again.\n",
        "\n",
        "Then, you can add the custom boundary function to the Language object by using the .add_pipe() method. Parsing text with this modified Language object will now treat the word after an ellipse as the start of a new sentence."
      ]
    },
    {
      "cell_type": "code",
      "execution_count": 50,
      "id": "a260f613",
      "metadata": {
        "colab": {
          "base_uri": "https://localhost:8080/"
        },
        "id": "a260f613",
        "outputId": "549fa875-cc72-431b-d7ae-6afbd496974c"
      },
      "outputs": [
        {
          "output_type": "stream",
          "name": "stdout",
          "text": [
            "Gus, can you, ...\n",
            "never mind, I forgot what I was saying.\n",
            "So, do you think we should ...\n"
          ]
        }
      ],
      "source": [
        "ellipsis_text = (\n",
        "    \"Gus, can you, ... never mind, I forgot\"\n",
        "   \" what I was saying. So, do you think\"\n",
        "   \" we should ...\"\n",
        " )\n",
        "\n",
        "from spacy.language import Language\n",
        "@Language.component(\"set_custom_boundaries\")\n",
        "def set_custom_boundaries(doc):\n",
        "     \"\"\"Add support to use `...` as a delimiter for sentence detection\"\"\"\n",
        "     for token in doc[:-1]:\n",
        "         if token.text == \"...\":\n",
        "             doc[token.i + 1].is_sent_start = True\n",
        "     return doc\n",
        "\n",
        "\n",
        "custom_nlp = spacy.load(\"en_core_web_sm\")\n",
        "custom_nlp.add_pipe(\"set_custom_boundaries\", before=\"parser\")\n",
        "custom_ellipsis_doc = custom_nlp(ellipsis_text)\n",
        "custom_ellipsis_sentences = list(custom_ellipsis_doc.sents)\n",
        "for sentence in custom_ellipsis_sentences:\n",
        " print(sentence)\n"
      ]
    },
    {
      "cell_type": "markdown",
      "id": "7604db36",
      "metadata": {
        "id": "7604db36"
      },
      "source": [
        "### Tokens in spaCy: The process of tokenization breaks a text down into its basic units—or tokens—which are represented in spaCy as Token objects."
      ]
    },
    {
      "cell_type": "code",
      "execution_count": 52,
      "id": "bc866c8c",
      "metadata": {
        "colab": {
          "base_uri": "https://localhost:8080/"
        },
        "id": "bc866c8c",
        "outputId": "cf32847b-1505-4dbe-d75e-8d6d6f1bcf21"
      },
      "outputs": [
        {
          "output_type": "stream",
          "name": "stdout",
          "text": [
            "Gus 0\n",
            "Proto 4\n",
            "is 10\n",
            "a 13\n",
            "Python 15\n",
            "developer 22\n",
            "currently 32\n",
            "working 42\n",
            "for 50\n",
            "a 54\n",
            "London 56\n",
            "- 62\n",
            "based 63\n",
            "Fintech 69\n",
            "company 77\n",
            ". 84\n",
            "He 86\n",
            "is 89\n",
            "interested 92\n",
            "in 103\n",
            "learning 106\n",
            "Natural 115\n",
            "Language 123\n",
            "Processing 132\n",
            ". 142\n"
          ]
        }
      ],
      "source": [
        "import spacy\n",
        "nlp = spacy.load(\"en_core_web_sm\")\n",
        "about_text = (\n",
        "     \"Gus Proto is a Python developer currently\"\n",
        "     \" working for a London-based Fintech\"\n",
        "     \" company. He is interested in learning\"\n",
        "     \" Natural Language Processing.\"\n",
        " )\n",
        "about_doc = nlp(about_text)\n",
        "\n",
        "for token in about_doc:\n",
        "    print (token, token.idx) ##.idx attribute represents the starting position of the token in the original text. \n",
        "                             ## Proto is 4 spaces from the start (Gus + whitespace). Useful for word counts."
      ]
    },
    {
      "cell_type": "markdown",
      "id": "eca25ce1",
      "metadata": {
        "id": "eca25ce1"
      },
      "source": [
        "###  Stop Words: Stop words are typically defined as the most common words in a language. \n",
        "In the English language, some examples of stop words are the, are, but, and they. \n",
        "Most sentences need to contain stop words in order to be full sentences that make grammatical sense.\n",
        "\n",
        "With NLP, stop words are generally removed because they aren’t significant, and they heavily distort any word frequency analysis. spaCy stores a list of stop words for the English language:\n"
      ]
    },
    {
      "cell_type": "code",
      "execution_count": 53,
      "id": "b5fe6950",
      "metadata": {
        "colab": {
          "base_uri": "https://localhost:8080/"
        },
        "id": "b5fe6950",
        "outputId": "6d1a2bf3-9880-4e3c-974e-aac18228777d"
      },
      "outputs": [
        {
          "output_type": "stream",
          "name": "stdout",
          "text": [
            "326\n",
            "'d\n",
            "whose\n",
            "n't\n",
            "whereafter\n",
            "‘re\n",
            "are\n",
            "those\n",
            "yet\n",
            "anywhere\n",
            "made\n"
          ]
        }
      ],
      "source": [
        "import spacy\n",
        "spacy_stopwords = spacy.lang.en.stop_words.STOP_WORDS\n",
        "print(len(spacy_stopwords))\n",
        "\n",
        "for stop_word in list(spacy_stopwords)[:10]:\n",
        " print(stop_word)"
      ]
    },
    {
      "cell_type": "code",
      "execution_count": 54,
      "id": "931309fc",
      "metadata": {
        "colab": {
          "base_uri": "https://localhost:8080/"
        },
        "id": "931309fc",
        "outputId": "cff8c1d0-603f-4255-ac25-ecae62b14508"
      },
      "outputs": [
        {
          "output_type": "stream",
          "name": "stdout",
          "text": [
            "[Gus, Proto, Python, developer, currently, working, London, -, based, Fintech, company, ., interested, learning, Natural, Language, Processing, .]\n"
          ]
        }
      ],
      "source": [
        "custom_about_text = (\n",
        " \"Gus Proto is a Python developer currently\"\n",
        " \" working for a London-based Fintech\"\n",
        " \" company. He is interested in learning\"\n",
        " \" Natural Language Processing.\"\n",
        ")\n",
        "nlp = spacy.load(\"en_core_web_sm\")\n",
        "about_doc = nlp(custom_about_text)\n",
        "print([token for token in about_doc if not token.is_stop])"
      ]
    },
    {
      "cell_type": "markdown",
      "id": "c29cd081",
      "metadata": {
        "id": "c29cd081"
      },
      "source": [
        "### Lemmatization\n",
        "Lemmatization is the process of reducing inflected forms of a word while still ensuring that the reduced form belongs to the language. This reduced form, or root word, is called a lemma.\n",
        "\n",
        "For example, organizes, organized and organizing are all forms of organize. Here, organize is the lemma. The inflection of a word allows you to express different grammatical categories, like tense (organized vs organize), number (trains vs train), and so on. Lemmatization is necessary because it helps you reduce the inflected forms of a word so that they can be analyzed as a single item. It can also help you normalize the text.\n",
        "\n",
        "spaCy puts a lemma_ attribute on the Token class. This attribute has the lemmatized form of the token:"
      ]
    },
    {
      "cell_type": "code",
      "execution_count": 55,
      "id": "9f5dc788",
      "metadata": {
        "colab": {
          "base_uri": "https://localhost:8080/"
        },
        "id": "9f5dc788",
        "outputId": "c4c09084-5ec6-41c1-8196-f5949e8be51d"
      },
      "outputs": [
        {
          "output_type": "stream",
          "name": "stdout",
          "text": [
            "                  is : be\n",
            "                  He : he\n",
            "               keeps : keep\n",
            "          organizing : organize\n",
            "             meetups : meetup\n",
            "               talks : talk\n"
          ]
        }
      ],
      "source": [
        "import spacy\n",
        "nlp = spacy.load(\"en_core_web_sm\")\n",
        "conference_help_text = (\n",
        " \"Gus is helping organize a developer\"\n",
        " \" conference on Applications of Natural Language\"\n",
        " \" Processing. He keeps organizing local Python meetups\"\n",
        " \" and several internal talks at his workplace.\"\n",
        ")\n",
        "conference_help_doc = nlp(conference_help_text)\n",
        "for token in conference_help_doc:\n",
        " if str(token) != str(token.lemma_):\n",
        "     print(f\"{str(token):>20} : {str(token.lemma_)}\")"
      ]
    },
    {
      "cell_type": "markdown",
      "id": "9761f704",
      "metadata": {
        "id": "9761f704"
      },
      "source": [
        "### Word Frequency\n",
        "You can now convert a given text into tokens and perform statistical analysis on it. "
      ]
    },
    {
      "cell_type": "code",
      "execution_count": 56,
      "id": "a9b2f923",
      "metadata": {
        "colab": {
          "base_uri": "https://localhost:8080/"
        },
        "id": "a9b2f923",
        "outputId": "4591aa28-0498-4b26-fab0-26e55f848a1b"
      },
      "outputs": [
        {
          "output_type": "stream",
          "name": "stdout",
          "text": [
            "[('Gus', 4), ('London', 3), ('Natural', 3), ('Language', 3), ('Processing', 3)]\n"
          ]
        }
      ],
      "source": [
        "import spacy\n",
        "from collections import Counter\n",
        "nlp = spacy.load(\"en_core_web_sm\")\n",
        "complete_text = (\n",
        " \"Gus Proto is a Python developer currently\"\n",
        " \" working for a London-based Fintech company. He is\"\n",
        " \" interested in learning Natural Language Processing.\"\n",
        " \" There is a developer conference happening on 21 July\"\n",
        " ' 2019 in London. It is titled \"Applications of Natural'\n",
        " ' Language Processing\". There is a helpline number'\n",
        " \" available at +44-1234567891. Gus is helping organize it.\"\n",
        " \" He keeps organizing local Python meetups and several\"\n",
        " \" internal talks at his workplace. Gus is also presenting\"\n",
        " ' a talk. The talk will introduce the reader about \"Use'\n",
        " ' cases of Natural Language Processing in Fintech\".'\n",
        " \" Apart from his work, he is very passionate about music.\"\n",
        " \" Gus is learning to play the Piano. He has enrolled\"\n",
        " \" himself in the weekend batch of Great Piano Academy.\"\n",
        " \" Great Piano Academy is situated in Mayfair or the City\"\n",
        " \" of London and has world-class piano instructors.\"\n",
        ")\n",
        "complete_doc = nlp(complete_text)\n",
        "\n",
        "words = [\n",
        " token.text\n",
        " for token in complete_doc\n",
        " if not token.is_stop and not token.is_punct\n",
        "]\n",
        "\n",
        "print(Counter(words).most_common(5))"
      ]
    },
    {
      "cell_type": "markdown",
      "id": "d8e02f8f",
      "metadata": {
        "id": "d8e02f8f"
      },
      "source": [
        "### Part-of-Speech Tagging\n",
        "Part of speech or POS is a grammatical role that explains how a particular word is used in a sentence. There are typically eight parts of speech:\n",
        "\n",
        "Noun,\n",
        "Pronoun,\n",
        "Adjective,\n",
        "Verb,\n",
        "Adverb,\n",
        "Preposition,\n",
        "Conjunction,\n",
        "Interjection.\n",
        "Part-of-speech tagging is the process of assigning a POS tag to each token depending on its usage in the sentence. POS tags are useful for assigning a syntactic category like noun or verb to each word.\n",
        "In spaCy, POS tags are available as an attribute on the Token object:\n",
        "\n"
      ]
    },
    {
      "cell_type": "code",
      "execution_count": 60,
      "id": "9545ca5a",
      "metadata": {
        "colab": {
          "base_uri": "https://localhost:8080/"
        },
        "id": "9545ca5a",
        "outputId": "71845183-7464-41c8-c730-050b01bc6289"
      },
      "outputs": [
        {
          "output_type": "stream",
          "name": "stdout",
          "text": [
            "\n",
            "TOKEN: Gus\n",
            "=====\n",
            "TAG: NNP        POS: PROPN\n",
            "EXPLANATION: noun, proper singular\n",
            "\n",
            "TOKEN: Proto\n",
            "=====\n",
            "TAG: NNP        POS: PROPN\n",
            "EXPLANATION: noun, proper singular\n",
            "\n",
            "TOKEN: is\n",
            "=====\n",
            "TAG: VBZ        POS: AUX\n",
            "EXPLANATION: verb, 3rd person singular present\n",
            "\n",
            "TOKEN: a\n",
            "=====\n",
            "TAG: DT         POS: DET\n",
            "EXPLANATION: determiner\n",
            "\n",
            "TOKEN: Python\n",
            "=====\n",
            "TAG: NNP        POS: PROPN\n",
            "EXPLANATION: noun, proper singular\n",
            "\n",
            "TOKEN: developer\n",
            "=====\n",
            "TAG: NN         POS: NOUN\n",
            "EXPLANATION: noun, singular or mass\n",
            "\n",
            "TOKEN: currently\n",
            "=====\n",
            "TAG: RB         POS: ADV\n",
            "EXPLANATION: adverb\n",
            "\n",
            "TOKEN: working\n",
            "=====\n",
            "TAG: VBG        POS: VERB\n",
            "EXPLANATION: verb, gerund or present participle\n",
            "\n",
            "TOKEN: for\n",
            "=====\n",
            "TAG: IN         POS: ADP\n",
            "EXPLANATION: conjunction, subordinating or preposition\n",
            "\n",
            "TOKEN: a\n",
            "=====\n",
            "TAG: DT         POS: DET\n",
            "EXPLANATION: determiner\n",
            "\n",
            "TOKEN: London\n",
            "=====\n",
            "TAG: NNP        POS: PROPN\n",
            "EXPLANATION: noun, proper singular\n",
            "\n",
            "TOKEN: -\n",
            "=====\n",
            "TAG: HYPH       POS: PUNCT\n",
            "EXPLANATION: punctuation mark, hyphen\n",
            "\n",
            "TOKEN: based\n",
            "=====\n",
            "TAG: VBN        POS: VERB\n",
            "EXPLANATION: verb, past participle\n",
            "\n",
            "TOKEN: Fintech\n",
            "=====\n",
            "TAG: NNP        POS: PROPN\n",
            "EXPLANATION: noun, proper singular\n",
            "\n",
            "TOKEN: company\n",
            "=====\n",
            "TAG: NN         POS: NOUN\n",
            "EXPLANATION: noun, singular or mass\n",
            "\n",
            "TOKEN: .\n",
            "=====\n",
            "TAG: .          POS: PUNCT\n",
            "EXPLANATION: punctuation mark, sentence closer\n",
            "\n",
            "TOKEN: He\n",
            "=====\n",
            "TAG: PRP        POS: PRON\n",
            "EXPLANATION: pronoun, personal\n",
            "\n",
            "TOKEN: is\n",
            "=====\n",
            "TAG: VBZ        POS: AUX\n",
            "EXPLANATION: verb, 3rd person singular present\n",
            "\n",
            "TOKEN: interested\n",
            "=====\n",
            "TAG: JJ         POS: ADJ\n",
            "EXPLANATION: adjective (English), other noun-modifier (Chinese)\n",
            "\n",
            "TOKEN: in\n",
            "=====\n",
            "TAG: IN         POS: ADP\n",
            "EXPLANATION: conjunction, subordinating or preposition\n",
            "\n",
            "TOKEN: learning\n",
            "=====\n",
            "TAG: VBG        POS: VERB\n",
            "EXPLANATION: verb, gerund or present participle\n",
            "\n",
            "TOKEN: Natural\n",
            "=====\n",
            "TAG: NNP        POS: PROPN\n",
            "EXPLANATION: noun, proper singular\n",
            "\n",
            "TOKEN: Language\n",
            "=====\n",
            "TAG: NNP        POS: PROPN\n",
            "EXPLANATION: noun, proper singular\n",
            "\n",
            "TOKEN: Processing\n",
            "=====\n",
            "TAG: NNP        POS: PROPN\n",
            "EXPLANATION: noun, proper singular\n",
            "\n",
            "TOKEN: .\n",
            "=====\n",
            "TAG: .          POS: PUNCT\n",
            "EXPLANATION: punctuation mark, sentence closer\n"
          ]
        }
      ],
      "source": [
        "import spacy\n",
        "nlp = spacy.load(\"en_core_web_sm\")\n",
        "about_text = (\n",
        " \"Gus Proto is a Python developer currently\"\n",
        " \" working for a London-based Fintech\"\n",
        " \" company. He is interested in learning\"\n",
        " \" Natural Language Processing.\"\n",
        ")\n",
        "about_doc = nlp(about_text)\n",
        "for token in about_doc:\n",
        "  # f is f-string used for including variabes in strings\n",
        " print(\n",
        "     f\"\"\"\n",
        "TOKEN: {str(token)}\n",
        "=====\n",
        "TAG: {str(token.tag_):10} POS: {token.pos_}\n",
        "EXPLANATION: {spacy.explain(token.tag_)}\"\"\"\n",
        " )\n"
      ]
    },
    {
      "cell_type": "code",
      "execution_count": 61,
      "id": "30dfd529",
      "metadata": {
        "colab": {
          "base_uri": "https://localhost:8080/"
        },
        "id": "30dfd529",
        "outputId": "3577f528-f642-4d93-c20d-54d18b343cf1"
      },
      "outputs": [
        {
          "output_type": "stream",
          "name": "stdout",
          "text": [
            "[developer, company]\n",
            "[interested]\n"
          ]
        }
      ],
      "source": [
        "nouns = []\n",
        "adjectives = []\n",
        "for token in about_doc:\n",
        " if token.pos_ == \"NOUN\":\n",
        "     nouns.append(token)\n",
        " if token.pos_ == \"ADJ\":\n",
        "     adjectives.append(token)\n",
        "\n",
        "\n",
        "print(nouns)\n",
        "\n",
        "print(adjectives)"
      ]
    },
    {
      "cell_type": "markdown",
      "id": "aee700df",
      "metadata": {
        "id": "aee700df"
      },
      "source": [
        "### Preprocessing Functions:\n",
        "Examples: \n",
        "Lowercases the text\n",
        "Lemmatizes each token\n",
        "Removes punctuation symbols\n",
        "Removes stop words"
      ]
    },
    {
      "cell_type": "code",
      "execution_count": 62,
      "id": "ef5df1c2",
      "metadata": {
        "colab": {
          "base_uri": "https://localhost:8080/"
        },
        "id": "ef5df1c2",
        "outputId": "41badad4-f951-4971-9a09-3e8ccfdc9a8e"
      },
      "outputs": [
        {
          "output_type": "execute_result",
          "data": {
            "text/plain": [
              "['gus',\n",
              " 'proto',\n",
              " 'python',\n",
              " 'developer',\n",
              " 'currently',\n",
              " 'work',\n",
              " 'london',\n",
              " 'base',\n",
              " 'fintech',\n",
              " 'company',\n",
              " 'interested',\n",
              " 'learn',\n",
              " 'natural',\n",
              " 'language',\n",
              " 'processing',\n",
              " 'developer',\n",
              " 'conference',\n",
              " 'happen',\n",
              " '21',\n",
              " 'july',\n",
              " '2019',\n",
              " 'london',\n",
              " 'title',\n",
              " 'application',\n",
              " 'natural',\n",
              " 'language',\n",
              " 'processing',\n",
              " 'helpline',\n",
              " 'number',\n",
              " 'available',\n",
              " '+44',\n",
              " '1234567891',\n",
              " 'gus',\n",
              " 'helping',\n",
              " 'organize',\n",
              " 'keep',\n",
              " 'organize',\n",
              " 'local',\n",
              " 'python',\n",
              " 'meetup',\n",
              " 'internal',\n",
              " 'talk',\n",
              " 'workplace',\n",
              " 'gus',\n",
              " 'present',\n",
              " 'talk',\n",
              " 'talk',\n",
              " 'introduce',\n",
              " 'reader',\n",
              " 'use',\n",
              " 'case',\n",
              " 'natural',\n",
              " 'language',\n",
              " 'processing',\n",
              " 'fintech',\n",
              " 'apart',\n",
              " 'work',\n",
              " 'passionate',\n",
              " 'music',\n",
              " 'gus',\n",
              " 'learn',\n",
              " 'play',\n",
              " 'piano',\n",
              " 'enrol',\n",
              " 'weekend',\n",
              " 'batch',\n",
              " 'great',\n",
              " 'piano',\n",
              " 'academy',\n",
              " 'great',\n",
              " 'piano',\n",
              " 'academy',\n",
              " 'situate',\n",
              " 'mayfair',\n",
              " 'city',\n",
              " 'london',\n",
              " 'world',\n",
              " 'class',\n",
              " 'piano',\n",
              " 'instructor']"
            ]
          },
          "metadata": {},
          "execution_count": 62
        }
      ],
      "source": [
        "import spacy\n",
        "nlp = spacy.load(\"en_core_web_sm\")\n",
        "complete_text = (\n",
        " \"Gus Proto is a Python developer currently\"\n",
        " \" working for a London-based Fintech company. He is\"\n",
        " \" interested in learning Natural Language Processing.\"\n",
        " \" There is a developer conference happening on 21 July\"\n",
        " ' 2019 in London. It is titled \"Applications of Natural'\n",
        " ' Language Processing\". There is a helpline number'\n",
        " \" available at +44-1234567891. Gus is helping organize it.\"\n",
        " \" He keeps organizing local Python meetups and several\"\n",
        " \" internal talks at his workplace. Gus is also presenting\"\n",
        " ' a talk. The talk will introduce the reader about \"Use'\n",
        " ' cases of Natural Language Processing in Fintech\".'\n",
        " \" Apart from his work, he is very passionate about music.\"\n",
        " \" Gus is learning to play the Piano. He has enrolled\"\n",
        " \" himself in the weekend batch of Great Piano Academy.\"\n",
        " \" Great Piano Academy is situated in Mayfair or the City\"\n",
        " \" of London and has world-class piano instructors.\"\n",
        ")\n",
        "complete_doc = nlp(complete_text)\n",
        "def is_token_allowed(token):\n",
        " return bool(\n",
        "     token\n",
        "     and str(token).strip()\n",
        "     and not token.is_stop\n",
        "     and not token.is_punct\n",
        " )\n",
        "\n",
        "def preprocess_token(token):\n",
        " return token.lemma_.strip().lower()\n",
        "\n",
        "complete_filtered_tokens = [\n",
        " preprocess_token(token)\n",
        " for token in complete_doc\n",
        " if is_token_allowed(token)\n",
        "]\n",
        "\n",
        "complete_filtered_tokens"
      ]
    },
    {
      "cell_type": "markdown",
      "id": "c6ccc16e",
      "metadata": {
        "id": "c6ccc16e"
      },
      "source": [
        "### Rule-Based Matching Using spaCy\n",
        "Rule-based matching is one of the steps in extracting information from unstructured text. It’s used to identify and extract tokens and phrases according to patterns (such as lowercase) and grammatical features (such as part of speech).For example, with rule-based matching, you can extract a first name and a last name, which are always proper nouns:\n",
        "\n"
      ]
    },
    {
      "cell_type": "code",
      "execution_count": 65,
      "id": "de333643",
      "metadata": {
        "colab": {
          "base_uri": "https://localhost:8080/",
          "height": 36
        },
        "id": "de333643",
        "outputId": "acfc8531-1852-4187-a0fe-3dcc7c6820c0"
      },
      "outputs": [
        {
          "output_type": "execute_result",
          "data": {
            "text/plain": [
              "'Gus Proto'"
            ],
            "application/vnd.google.colaboratory.intrinsic+json": {
              "type": "string"
            }
          },
          "metadata": {},
          "execution_count": 65
        }
      ],
      "source": [
        "import spacy\n",
        "nlp = spacy.load(\"en_core_web_sm\")\n",
        "about_text = (\n",
        " \"Gus Proto is a Python developer currently\"\n",
        " \" working for a London-based Fintech\"\n",
        " \" company. He is interested in learning\"\n",
        " \" Natural Language Processing.\"\n",
        ")\n",
        "about_doc = nlp(about_text)\n",
        "\n",
        "from spacy.matcher import Matcher\n",
        "matcher = Matcher(nlp.vocab)\n",
        "\n",
        "def extract_full_name(nlp_doc):\n",
        " pattern = [{\"POS\": \"PROPN\"}, {\"POS\": \"PROPN\"}]\n",
        " matcher.add(\"FULL_NAME\", [pattern])\n",
        " matches = matcher(nlp_doc)\n",
        " for _, start, end in matches:\n",
        "     span = nlp_doc[start:end]\n",
        "     yield span.text\n",
        "\n",
        "\n",
        "next(extract_full_name(about_doc))\n"
      ]
    },
    {
      "cell_type": "markdown",
      "id": "bbd36b1a",
      "metadata": {
        "id": "bbd36b1a"
      },
      "source": [
        "### Named-Entity Recognition\n",
        "Named-entity recognition (NER) is the process of locating named entities in unstructured text and then classifying them into predefined categories, such as person names, organizations, locations, monetary values, percentages, and time expressions.\n",
        "\n",
        "You can use NER to learn more about the meaning of your text. For example, you could use it to populate tags for a set of documents in order to improve the keyword search. You could also use it to categorize customer support tickets into relevant categories.\n",
        "\n",
        "spaCy has the property .ents on Doc objects. You can use it to extract named entities:"
      ]
    },
    {
      "cell_type": "code",
      "execution_count": 71,
      "id": "e20d837a",
      "metadata": {
        "colab": {
          "base_uri": "https://localhost:8080/"
        },
        "id": "e20d837a",
        "outputId": "5b729208-7ed6-4832-c2e0-f2397b40f287"
      },
      "outputs": [
        {
          "output_type": "stream",
          "name": "stdout",
          "text": [
            "\n",
            "ent.text = 'Great Piano Academy'\n",
            "ent.start_char = 0\n",
            "ent.end_char = 19\n",
            "ent.label_ = 'ORG'\n",
            "spacy.explain('ORG') = Companies, agencies, institutions, etc.\n",
            "\n",
            "ent.text = 'Mayfair'\n",
            "ent.start_char = 35\n",
            "ent.end_char = 42\n",
            "ent.label_ = 'GPE'\n",
            "spacy.explain('GPE') = Countries, cities, states\n",
            "\n",
            "ent.text = 'the City of London'\n",
            "ent.start_char = 46\n",
            "ent.end_char = 64\n",
            "ent.label_ = 'GPE'\n",
            "spacy.explain('GPE') = Countries, cities, states\n"
          ]
        }
      ],
      "source": [
        "import spacy\n",
        "nlp = spacy.load(\"en_core_web_sm\")\n",
        "\n",
        "piano_class_text = (\n",
        " \"Great Piano Academy is situated\"\n",
        " \" in Mayfair or the City of London and has\"\n",
        " \" world-class piano instructors.\"\n",
        ")\n",
        "piano_class_doc = nlp(piano_class_text)\n",
        "\n",
        "for ent in piano_class_doc.ents:\n",
        " print(\n",
        "     f\"\"\"\n",
        "{ent.text = }\n",
        "{ent.start_char = }\n",
        "{ent.end_char = }\n",
        "{ent.label_ = }\n",
        "spacy.explain('{ent.label_}') = {spacy.explain(ent.label_)}\"\"\"\n",
        ")"
      ]
    },
    {
      "cell_type": "code",
      "execution_count": 72,
      "id": "9695e7c9",
      "metadata": {
        "colab": {
          "base_uri": "https://localhost:8080/"
        },
        "id": "9695e7c9",
        "outputId": "b51fd1f4-fa3c-4062-db47-e09593e0d5ab"
      },
      "outputs": [
        {
          "output_type": "stream",
          "name": "stdout",
          "text": [
            "Out of 5 people surveyed, [REDACTED] , [REDACTED] and [REDACTED] like apples. [REDACTED] and [REDACTED] like oranges.\n"
          ]
        }
      ],
      "source": [
        "survey_text = (\n",
        " \"Out of 5 people surveyed, James Robert,\"\n",
        " \" Julie Fuller and Benjamin Brooks like\"\n",
        " \" apples. Kelly Cox and Matthew Evans\"\n",
        " \" like oranges.\"\n",
        ")\n",
        "\n",
        "\n",
        "def replace_person_names(token):\n",
        " if token.ent_iob != 0 and token.ent_type_ == \"PERSON\":\n",
        "     return \"[REDACTED] \"\n",
        " return token.text_with_ws\n",
        "\n",
        "\n",
        "def redact_names(nlp_doc):\n",
        " with nlp_doc.retokenize() as retokenizer:\n",
        "     for ent in nlp_doc.ents:\n",
        "         retokenizer.merge(ent)\n",
        " tokens = map(replace_person_names, nlp_doc)\n",
        " return \"\".join(tokens)\n",
        "\n",
        "survey_doc = nlp(survey_text)\n",
        "print(redact_names(survey_doc))"
      ]
    },
    {
      "cell_type": "code",
      "execution_count": 73,
      "id": "91b403c8",
      "metadata": {
        "colab": {
          "base_uri": "https://localhost:8080/"
        },
        "id": "91b403c8",
        "outputId": "374ac473-9363-4904-9c7f-b6261b0b8962"
      },
      "outputs": [
        {
          "output_type": "stream",
          "name": "stdout",
          "text": [
            "{'Paris', 'Syria', 'UK', 'Slovakia', 'Turkey'}\n"
          ]
        }
      ],
      "source": [
        "import spacy\n",
        "\n",
        "nlp = spacy.load('en_core_web_sm')\n",
        "doc = nlp(\"He left Syria and flew to Turkey, then went through Slovakia, Germanny and Paris and across to the UK.\")\n",
        "\n",
        "countries = set()\n",
        "for ent in doc.ents:\n",
        "    if ent.label_ == 'GPE':  # GPE stands for Geo-Political Entity\n",
        "        countries.add(ent.text)\n",
        "\n",
        "print(countries)  # {'Syria', 'Turkey', 'Slovakia', 'Germany', 'Paris', 'UK'}"
      ]
    },
    {
      "cell_type": "markdown",
      "id": "322e5a25",
      "metadata": {
        "id": "322e5a25"
      },
      "source": [
        "### Transformers"
      ]
    },
    {
      "cell_type": "markdown",
      "id": "5a3240b0",
      "metadata": {
        "id": "5a3240b0"
      },
      "source": [
        "Transformers are new types of recurrent neural networks that are particularly\n",
        "suitable for natural language processing. Transformers have become\n",
        "the state-of-\n",
        "the-\n",
        "art\n",
        "approach in natural language processing since 2017. With\n",
        "transformers you can build chatbot and question answering applications easily."
      ]
    },
    {
      "cell_type": "markdown",
      "id": "8275befc",
      "metadata": {
        "id": "8275befc"
      },
      "source": [
        "You might need to run the following commands in terminal to install transformers and tensorflow.\n",
        "\n",
        "- pip install transformers\n",
        "\n",
        "- pip install tensorflow\n"
      ]
    },
    {
      "cell_type": "code",
      "execution_count": 79,
      "id": "a7db1377",
      "metadata": {
        "colab": {
          "base_uri": "https://localhost:8080/"
        },
        "id": "a7db1377",
        "outputId": "709790e6-4966-42a2-f542-b1f3eb11c54c"
      },
      "outputs": [
        {
          "output_type": "stream",
          "name": "stderr",
          "text": [
            "No model was supplied, defaulted to distilbert-base-uncased-finetuned-sst-2-english and revision af0f99b (https://huggingface.co/distilbert-base-uncased-finetuned-sst-2-english).\n",
            "Using a pipeline without specifying a model name and revision in production is not recommended.\n"
          ]
        }
      ],
      "source": [
        "from transformers import pipeline\n",
        "classifier = pipeline('sentiment-analysis')\n",
        "first = classifier('We are very happy to visit London.')\n",
        "second = classifier('In London it was raining a lot')"
      ]
    },
    {
      "cell_type": "code",
      "source": [
        "print(first)\n",
        "print(second)"
      ],
      "metadata": {
        "colab": {
          "base_uri": "https://localhost:8080/"
        },
        "id": "EYsdq3BAJaXq",
        "outputId": "8ec3b5e6-bce5-4620-9549-90c196dd8073"
      },
      "id": "EYsdq3BAJaXq",
      "execution_count": 80,
      "outputs": [
        {
          "output_type": "stream",
          "name": "stdout",
          "text": [
            "[{'label': 'POSITIVE', 'score': 0.9998718500137329}]\n",
            "[{'label': 'NEGATIVE', 'score': 0.986086905002594}]\n"
          ]
        }
      ]
    },
    {
      "cell_type": "markdown",
      "id": "21402c4f",
      "metadata": {
        "id": "21402c4f"
      },
      "source": [
        "### Q/A using transformers"
      ]
    },
    {
      "cell_type": "code",
      "execution_count": 81,
      "id": "97506bdb",
      "metadata": {
        "colab": {
          "base_uri": "https://localhost:8080/"
        },
        "id": "97506bdb",
        "outputId": "6d66ead4-81d5-41cf-f19b-a39d3f22ba5f"
      },
      "outputs": [
        {
          "output_type": "stream",
          "name": "stderr",
          "text": [
            "No model was supplied, defaulted to distilbert-base-cased-distilled-squad and revision 626af31 (https://huggingface.co/distilbert-base-cased-distilled-squad).\n",
            "Using a pipeline without specifying a model name and revision in production is not recommended.\n"
          ]
        },
        {
          "output_type": "execute_result",
          "data": {
            "text/plain": [
              "{'score': 0.7448022365570068,\n",
              " 'start': 11,\n",
              " 'end': 27,\n",
              " 'answer': 'Biox Systems Ltd'}"
            ]
          },
          "metadata": {},
          "execution_count": 81
        }
      ],
      "source": [
        "# Example Q&A with transformers\n",
        "from transformers import pipeline\n",
        "question_answerer = pipeline('question-answering')\n",
        "question_answerer({'question': 'What is the name of the company?',\n",
        "                   'context': 'We created Biox Systems Ltd company back in the yearof 2000.'\n",
        "})"
      ]
    },
    {
      "cell_type": "code",
      "execution_count": 82,
      "id": "53e6d0cb",
      "metadata": {
        "colab": {
          "base_uri": "https://localhost:8080/"
        },
        "id": "53e6d0cb",
        "outputId": "9278a42f-6215-4580-943e-16246a47fa8a"
      },
      "outputs": [
        {
          "name": "stdout",
          "output_type": "stream",
          "text": [
            "Ask a question:What is 2+2\n"
          ]
        },
        {
          "output_type": "stream",
          "name": "stderr",
          "text": [
            "No model was supplied, defaulted to distilbert-base-cased-distilled-squad and revision 626af31 (https://huggingface.co/distilbert-base-cased-distilled-squad).\n",
            "Using a pipeline without specifying a model name and revision in production is not recommended.\n"
          ]
        },
        {
          "output_type": "stream",
          "name": "stdout",
          "text": [
            "Answer: Biox Systems Ltd company\n",
            "Score: 0.49045586585998535\n"
          ]
        }
      ],
      "source": [
        "# Example open question answering with transformers\n",
        "from transformers import pipeline\n",
        "context = '''\n",
        "We created Biox Systems Ltd company back in the year of 2000.\n",
        "'''\n",
        "Question = input('Ask a question:')\n",
        "question_answerer = pipeline('question-answering')\n",
        "result = question_answerer(question=Question, context=context)\n",
        "print(\"Answer:\", result['answer'])\n",
        "print(\"Score:\", result['score'])"
      ]
    },
    {
      "cell_type": "markdown",
      "id": "ff322def",
      "metadata": {
        "id": "ff322def"
      },
      "source": [
        "Example shows another Python example on text generation by using Generative Pre-trained Transformer 2 (GPT-2)\n",
        "model Transformers. GPT-2 is a large transformer-based language model developed by OpenAI. The latest\n",
        "version is GPT-3. GPT-2 has 1.5 billion parameters and is trained on a dataset of 8 million web pages. GPT-2 \n",
        "is trained to predict the next word, given the previous words within the text. "
      ]
    },
    {
      "cell_type": "code",
      "execution_count": 83,
      "id": "bb1f281c",
      "metadata": {
        "colab": {
          "base_uri": "https://localhost:8080/"
        },
        "id": "bb1f281c",
        "outputId": "16f0d0ae-6155-468c-f207-96c3a0db05fc"
      },
      "outputs": [
        {
          "output_type": "stream",
          "name": "stderr",
          "text": [
            "/usr/local/lib/python3.9/dist-packages/transformers/generation/utils.py:1201: UserWarning: You have modified the pretrained model configuration to control generation. This is a deprecated strategy to control generation and will be removed soon, in a future version. Please use a generation configuration file (see https://huggingface.co/docs/transformers/main_classes/text_generation)\n",
            "  warnings.warn(\n",
            "Setting `pad_token_id` to `eos_token_id`:50256 for open-end generation.\n"
          ]
        },
        {
          "output_type": "execute_result",
          "data": {
            "text/plain": [
              "[{'generated_text': 'I feel amazing about it.\"\\n\\nAnd she was already working on that.'},\n",
              " {'generated_text': 'I feel amazing about this.\"\\n\\nHe said he was shocked that the school would take the case'},\n",
              " {'generated_text': 'I feel amazing about that. We started it by calling a party. At home to work on it'},\n",
              " {'generated_text': 'I feel amazing about where the team should take the offseason. It\\'s going to be great,\" Williams'},\n",
              " {'generated_text': 'I feel amazing about this project. The idea of this album being included in the album is just so'}]"
            ]
          },
          "metadata": {},
          "execution_count": 83
        }
      ],
      "source": [
        "# Example Text Generation with transformers (GPT-2 Model)\n",
        "# pip install transformers\n",
        "from transformers import pipeline, set_seed\n",
        "generator = pipeline('text-generation',\n",
        "model='gpt2')\n",
        "set_seed(20)\n",
        "generator(\"I feel amazing about\", max_length=20,\n",
        "num_return_sequences=5)"
      ]
    },
    {
      "cell_type": "code",
      "execution_count": 47,
      "id": "34001844",
      "metadata": {
        "id": "34001844"
      },
      "outputs": [],
      "source": []
    }
  ],
  "metadata": {
    "kernelspec": {
      "display_name": "Python 3 (ipykernel)",
      "language": "python",
      "name": "python3"
    },
    "language_info": {
      "codemirror_mode": {
        "name": "ipython",
        "version": 3
      },
      "file_extension": ".py",
      "mimetype": "text/x-python",
      "name": "python",
      "nbconvert_exporter": "python",
      "pygments_lexer": "ipython3",
      "version": "3.11.2"
    },
    "colab": {
      "provenance": []
    }
  },
  "nbformat": 4,
  "nbformat_minor": 5
}